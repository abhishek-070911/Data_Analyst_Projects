{
 "cells": [
  {
   "cell_type": "markdown",
   "metadata": {
    "id": "wQOj7GBJVPQ1"
   },
   "source": [
    "# 1.Data Preparation"
   ]
  },
  {
   "cell_type": "markdown",
   "metadata": {
    "id": "2a6F4iM2T5VE"
   },
   "source": [
    "Importing necessary libraries\n"
   ]
  },
  {
   "cell_type": "code",
   "execution_count": 5,
   "metadata": {
    "colab": {
     "base_uri": "https://localhost:8080/"
    },
    "id": "m8yQC_9eSFfJ",
    "outputId": "7918ed14-2e1e-4978-cd84-6647a8091061"
   },
   "outputs": [],
   "source": [
    "# import data manipulation libraries\n",
    "\n",
    "import numpy as np\n",
    "import pandas as pd\n",
    "import matplotlib.pyplot as plt\n",
    "import seaborn as sns\n"
   ]
  },
  {
   "cell_type": "code",
   "execution_count": 6,
   "metadata": {
    "id": "nlB8qDGQb2Pz"
   },
   "outputs": [],
   "source": [
    "# Importing dataset\n",
    "\n",
    "olympics_df = pd.read_csv(r'D:\\Prot\\Data Analyst\\UM selected projects\\B_Olympics\\Summer-Olympic-medals-1976-to-2008_cleaned.csv',encoding=\"latin1\")"
   ]
  },
  {
   "cell_type": "code",
   "execution_count": 7,
   "metadata": {
    "id": "XGmzIoEpb2Sq"
   },
   "outputs": [],
   "source": [
    "# Creating a copy of the original dataset and working on this copied version\n",
    "\n",
    "olympics = olympics_df.copy()"
   ]
  },
  {
   "cell_type": "code",
   "execution_count": 8,
   "metadata": {
    "colab": {
     "base_uri": "https://localhost:8080/",
     "height": 363
    },
    "id": "S9E6W9sWb2Up",
    "outputId": "b1718994-f8d3-4075-96f6-05124692668d"
   },
   "outputs": [
    {
     "data": {
      "text/html": [
       "<div>\n",
       "<style scoped>\n",
       "    .dataframe tbody tr th:only-of-type {\n",
       "        vertical-align: middle;\n",
       "    }\n",
       "\n",
       "    .dataframe tbody tr th {\n",
       "        vertical-align: top;\n",
       "    }\n",
       "\n",
       "    .dataframe thead th {\n",
       "        text-align: right;\n",
       "    }\n",
       "</style>\n",
       "<table border=\"1\" class=\"dataframe\">\n",
       "  <thead>\n",
       "    <tr style=\"text-align: right;\">\n",
       "      <th></th>\n",
       "      <th>City</th>\n",
       "      <th>Year</th>\n",
       "      <th>Sport</th>\n",
       "      <th>Discipline</th>\n",
       "      <th>Event</th>\n",
       "      <th>Athlete</th>\n",
       "      <th>Gender</th>\n",
       "      <th>Country_Code</th>\n",
       "      <th>Country</th>\n",
       "      <th>Event_gender</th>\n",
       "      <th>Medal</th>\n",
       "    </tr>\n",
       "  </thead>\n",
       "  <tbody>\n",
       "    <tr>\n",
       "      <th>0</th>\n",
       "      <td>Montreal</td>\n",
       "      <td>1976</td>\n",
       "      <td>Aquatics</td>\n",
       "      <td>Diving</td>\n",
       "      <td>3m springboard</td>\n",
       "      <td>KÃHLER, Christa</td>\n",
       "      <td>Women</td>\n",
       "      <td>GDR</td>\n",
       "      <td>East Germany</td>\n",
       "      <td>W</td>\n",
       "      <td>Silver</td>\n",
       "    </tr>\n",
       "    <tr>\n",
       "      <th>1</th>\n",
       "      <td>Montreal</td>\n",
       "      <td>1976</td>\n",
       "      <td>Aquatics</td>\n",
       "      <td>Diving</td>\n",
       "      <td>3m springboard</td>\n",
       "      <td>KOSENKOV, Aleksandr</td>\n",
       "      <td>Men</td>\n",
       "      <td>URS</td>\n",
       "      <td>Soviet Union</td>\n",
       "      <td>M</td>\n",
       "      <td>Bronze</td>\n",
       "    </tr>\n",
       "    <tr>\n",
       "      <th>2</th>\n",
       "      <td>Montreal</td>\n",
       "      <td>1976</td>\n",
       "      <td>Aquatics</td>\n",
       "      <td>Diving</td>\n",
       "      <td>3m springboard</td>\n",
       "      <td>BOGGS, Philip George</td>\n",
       "      <td>Men</td>\n",
       "      <td>USA</td>\n",
       "      <td>United States</td>\n",
       "      <td>M</td>\n",
       "      <td>Gold</td>\n",
       "    </tr>\n",
       "    <tr>\n",
       "      <th>3</th>\n",
       "      <td>Montreal</td>\n",
       "      <td>1976</td>\n",
       "      <td>Aquatics</td>\n",
       "      <td>Diving</td>\n",
       "      <td>3m springboard</td>\n",
       "      <td>CAGNOTTO, Giorgio Franco</td>\n",
       "      <td>Men</td>\n",
       "      <td>ITA</td>\n",
       "      <td>Italy</td>\n",
       "      <td>M</td>\n",
       "      <td>Silver</td>\n",
       "    </tr>\n",
       "    <tr>\n",
       "      <th>4</th>\n",
       "      <td>Montreal</td>\n",
       "      <td>1976</td>\n",
       "      <td>Aquatics</td>\n",
       "      <td>Diving</td>\n",
       "      <td>10m platform</td>\n",
       "      <td>WILSON, Deborah Keplar</td>\n",
       "      <td>Women</td>\n",
       "      <td>USA</td>\n",
       "      <td>United States</td>\n",
       "      <td>W</td>\n",
       "      <td>Bronze</td>\n",
       "    </tr>\n",
       "    <tr>\n",
       "      <th>5</th>\n",
       "      <td>Montreal</td>\n",
       "      <td>1976</td>\n",
       "      <td>Aquatics</td>\n",
       "      <td>Diving</td>\n",
       "      <td>10m platform</td>\n",
       "      <td>LOUGANIS, Gregory</td>\n",
       "      <td>Men</td>\n",
       "      <td>USA</td>\n",
       "      <td>United States</td>\n",
       "      <td>M</td>\n",
       "      <td>Silver</td>\n",
       "    </tr>\n",
       "    <tr>\n",
       "      <th>6</th>\n",
       "      <td>Montreal</td>\n",
       "      <td>1976</td>\n",
       "      <td>Aquatics</td>\n",
       "      <td>Diving</td>\n",
       "      <td>10m platform</td>\n",
       "      <td>VAYTSEKHOVSKAYA, Elena</td>\n",
       "      <td>Women</td>\n",
       "      <td>URS</td>\n",
       "      <td>Soviet Union</td>\n",
       "      <td>W</td>\n",
       "      <td>Gold</td>\n",
       "    </tr>\n",
       "    <tr>\n",
       "      <th>7</th>\n",
       "      <td>Montreal</td>\n",
       "      <td>1976</td>\n",
       "      <td>Aquatics</td>\n",
       "      <td>Diving</td>\n",
       "      <td>3m springboard</td>\n",
       "      <td>POTTER-MCINGVALE, Cynthia</td>\n",
       "      <td>Women</td>\n",
       "      <td>USA</td>\n",
       "      <td>United States</td>\n",
       "      <td>W</td>\n",
       "      <td>Bronze</td>\n",
       "    </tr>\n",
       "    <tr>\n",
       "      <th>8</th>\n",
       "      <td>Montreal</td>\n",
       "      <td>1976</td>\n",
       "      <td>Aquatics</td>\n",
       "      <td>Diving</td>\n",
       "      <td>10m platform</td>\n",
       "      <td>DIBIASI, Klaus</td>\n",
       "      <td>Men</td>\n",
       "      <td>ITA</td>\n",
       "      <td>Italy</td>\n",
       "      <td>M</td>\n",
       "      <td>Gold</td>\n",
       "    </tr>\n",
       "    <tr>\n",
       "      <th>9</th>\n",
       "      <td>Montreal</td>\n",
       "      <td>1976</td>\n",
       "      <td>Aquatics</td>\n",
       "      <td>Diving</td>\n",
       "      <td>10m platform</td>\n",
       "      <td>ALEINIK, Vladimir</td>\n",
       "      <td>Men</td>\n",
       "      <td>URS</td>\n",
       "      <td>Soviet Union</td>\n",
       "      <td>M</td>\n",
       "      <td>Bronze</td>\n",
       "    </tr>\n",
       "  </tbody>\n",
       "</table>\n",
       "</div>"
      ],
      "text/plain": [
       "       City  Year     Sport Discipline           Event  \\\n",
       "0  Montreal  1976  Aquatics     Diving  3m springboard   \n",
       "1  Montreal  1976  Aquatics     Diving  3m springboard   \n",
       "2  Montreal  1976  Aquatics     Diving  3m springboard   \n",
       "3  Montreal  1976  Aquatics     Diving  3m springboard   \n",
       "4  Montreal  1976  Aquatics     Diving    10m platform   \n",
       "5  Montreal  1976  Aquatics     Diving    10m platform   \n",
       "6  Montreal  1976  Aquatics     Diving    10m platform   \n",
       "7  Montreal  1976  Aquatics     Diving  3m springboard   \n",
       "8  Montreal  1976  Aquatics     Diving    10m platform   \n",
       "9  Montreal  1976  Aquatics     Diving    10m platform   \n",
       "\n",
       "                     Athlete Gender Country_Code        Country Event_gender  \\\n",
       "0           KÃHLER, Christa  Women          GDR   East Germany            W   \n",
       "1        KOSENKOV, Aleksandr    Men          URS   Soviet Union            M   \n",
       "2       BOGGS, Philip George    Men          USA  United States            M   \n",
       "3   CAGNOTTO, Giorgio Franco    Men          ITA          Italy            M   \n",
       "4     WILSON, Deborah Keplar  Women          USA  United States            W   \n",
       "5          LOUGANIS, Gregory    Men          USA  United States            M   \n",
       "6     VAYTSEKHOVSKAYA, Elena  Women          URS   Soviet Union            W   \n",
       "7  POTTER-MCINGVALE, Cynthia  Women          USA  United States            W   \n",
       "8             DIBIASI, Klaus    Men          ITA          Italy            M   \n",
       "9          ALEINIK, Vladimir    Men          URS   Soviet Union            M   \n",
       "\n",
       "    Medal  \n",
       "0  Silver  \n",
       "1  Bronze  \n",
       "2    Gold  \n",
       "3  Silver  \n",
       "4  Bronze  \n",
       "5  Silver  \n",
       "6    Gold  \n",
       "7  Bronze  \n",
       "8    Gold  \n",
       "9  Bronze  "
      ]
     },
     "execution_count": 8,
     "metadata": {},
     "output_type": "execute_result"
    }
   ],
   "source": [
    "# Checking first 10 rows for analysis\n",
    "\n",
    "olympics.head(10)"
   ]
  },
  {
   "cell_type": "code",
   "execution_count": 9,
   "metadata": {
    "colab": {
     "base_uri": "https://localhost:8080/",
     "height": 759
    },
    "id": "1t3J1LzNb2W6",
    "outputId": "add09111-1bf0-4858-cef0-3e2498a5eb85"
   },
   "outputs": [
    {
     "name": "stdout",
     "output_type": "stream",
     "text": [
      "<class 'pandas.core.frame.DataFrame'>\n",
      "RangeIndex: 15316 entries, 0 to 15315\n",
      "Data columns (total 11 columns):\n",
      " #   Column        Non-Null Count  Dtype \n",
      "---  ------        --------------  ----- \n",
      " 0   City          15316 non-null  object\n",
      " 1   Year          15316 non-null  int64 \n",
      " 2   Sport         15316 non-null  object\n",
      " 3   Discipline    15316 non-null  object\n",
      " 4   Event         15316 non-null  object\n",
      " 5   Athlete       15316 non-null  object\n",
      " 6   Gender        15316 non-null  object\n",
      " 7   Country_Code  15316 non-null  object\n",
      " 8   Country       15316 non-null  object\n",
      " 9   Event_gender  15316 non-null  object\n",
      " 10  Medal         15316 non-null  object\n",
      "dtypes: int64(1), object(10)\n",
      "memory usage: 1.3+ MB\n",
      "None\n",
      "\n",
      "\n"
     ]
    },
    {
     "data": {
      "text/html": [
       "<div>\n",
       "<style scoped>\n",
       "    .dataframe tbody tr th:only-of-type {\n",
       "        vertical-align: middle;\n",
       "    }\n",
       "\n",
       "    .dataframe tbody tr th {\n",
       "        vertical-align: top;\n",
       "    }\n",
       "\n",
       "    .dataframe thead th {\n",
       "        text-align: right;\n",
       "    }\n",
       "</style>\n",
       "<table border=\"1\" class=\"dataframe\">\n",
       "  <thead>\n",
       "    <tr style=\"text-align: right;\">\n",
       "      <th></th>\n",
       "      <th>City</th>\n",
       "      <th>Year</th>\n",
       "      <th>Sport</th>\n",
       "      <th>Discipline</th>\n",
       "      <th>Event</th>\n",
       "      <th>Athlete</th>\n",
       "      <th>Gender</th>\n",
       "      <th>Country_Code</th>\n",
       "      <th>Country</th>\n",
       "      <th>Event_gender</th>\n",
       "      <th>Medal</th>\n",
       "    </tr>\n",
       "  </thead>\n",
       "  <tbody>\n",
       "    <tr>\n",
       "      <th>count</th>\n",
       "      <td>15316</td>\n",
       "      <td>15316.000000</td>\n",
       "      <td>15316</td>\n",
       "      <td>15316</td>\n",
       "      <td>15316</td>\n",
       "      <td>15316</td>\n",
       "      <td>15316</td>\n",
       "      <td>15316</td>\n",
       "      <td>15316</td>\n",
       "      <td>15316</td>\n",
       "      <td>15316</td>\n",
       "    </tr>\n",
       "    <tr>\n",
       "      <th>unique</th>\n",
       "      <td>9</td>\n",
       "      <td>NaN</td>\n",
       "      <td>28</td>\n",
       "      <td>41</td>\n",
       "      <td>293</td>\n",
       "      <td>11337</td>\n",
       "      <td>2</td>\n",
       "      <td>128</td>\n",
       "      <td>127</td>\n",
       "      <td>3</td>\n",
       "      <td>3</td>\n",
       "    </tr>\n",
       "    <tr>\n",
       "      <th>top</th>\n",
       "      <td>Beijing</td>\n",
       "      <td>NaN</td>\n",
       "      <td>Aquatics</td>\n",
       "      <td>Athletics</td>\n",
       "      <td>hockey</td>\n",
       "      <td>PHELPS, Michael</td>\n",
       "      <td>Men</td>\n",
       "      <td>USA</td>\n",
       "      <td>United States</td>\n",
       "      <td>M</td>\n",
       "      <td>Bronze</td>\n",
       "    </tr>\n",
       "    <tr>\n",
       "      <th>freq</th>\n",
       "      <td>2042</td>\n",
       "      <td>NaN</td>\n",
       "      <td>2210</td>\n",
       "      <td>1523</td>\n",
       "      <td>817</td>\n",
       "      <td>16</td>\n",
       "      <td>9388</td>\n",
       "      <td>1992</td>\n",
       "      <td>1992</td>\n",
       "      <td>8817</td>\n",
       "      <td>5258</td>\n",
       "    </tr>\n",
       "    <tr>\n",
       "      <th>mean</th>\n",
       "      <td>NaN</td>\n",
       "      <td>1993.620789</td>\n",
       "      <td>NaN</td>\n",
       "      <td>NaN</td>\n",
       "      <td>NaN</td>\n",
       "      <td>NaN</td>\n",
       "      <td>NaN</td>\n",
       "      <td>NaN</td>\n",
       "      <td>NaN</td>\n",
       "      <td>NaN</td>\n",
       "      <td>NaN</td>\n",
       "    </tr>\n",
       "    <tr>\n",
       "      <th>std</th>\n",
       "      <td>NaN</td>\n",
       "      <td>10.159851</td>\n",
       "      <td>NaN</td>\n",
       "      <td>NaN</td>\n",
       "      <td>NaN</td>\n",
       "      <td>NaN</td>\n",
       "      <td>NaN</td>\n",
       "      <td>NaN</td>\n",
       "      <td>NaN</td>\n",
       "      <td>NaN</td>\n",
       "      <td>NaN</td>\n",
       "    </tr>\n",
       "    <tr>\n",
       "      <th>min</th>\n",
       "      <td>NaN</td>\n",
       "      <td>1976.000000</td>\n",
       "      <td>NaN</td>\n",
       "      <td>NaN</td>\n",
       "      <td>NaN</td>\n",
       "      <td>NaN</td>\n",
       "      <td>NaN</td>\n",
       "      <td>NaN</td>\n",
       "      <td>NaN</td>\n",
       "      <td>NaN</td>\n",
       "      <td>NaN</td>\n",
       "    </tr>\n",
       "    <tr>\n",
       "      <th>25%</th>\n",
       "      <td>NaN</td>\n",
       "      <td>1984.000000</td>\n",
       "      <td>NaN</td>\n",
       "      <td>NaN</td>\n",
       "      <td>NaN</td>\n",
       "      <td>NaN</td>\n",
       "      <td>NaN</td>\n",
       "      <td>NaN</td>\n",
       "      <td>NaN</td>\n",
       "      <td>NaN</td>\n",
       "      <td>NaN</td>\n",
       "    </tr>\n",
       "    <tr>\n",
       "      <th>50%</th>\n",
       "      <td>NaN</td>\n",
       "      <td>1996.000000</td>\n",
       "      <td>NaN</td>\n",
       "      <td>NaN</td>\n",
       "      <td>NaN</td>\n",
       "      <td>NaN</td>\n",
       "      <td>NaN</td>\n",
       "      <td>NaN</td>\n",
       "      <td>NaN</td>\n",
       "      <td>NaN</td>\n",
       "      <td>NaN</td>\n",
       "    </tr>\n",
       "    <tr>\n",
       "      <th>75%</th>\n",
       "      <td>NaN</td>\n",
       "      <td>2004.000000</td>\n",
       "      <td>NaN</td>\n",
       "      <td>NaN</td>\n",
       "      <td>NaN</td>\n",
       "      <td>NaN</td>\n",
       "      <td>NaN</td>\n",
       "      <td>NaN</td>\n",
       "      <td>NaN</td>\n",
       "      <td>NaN</td>\n",
       "      <td>NaN</td>\n",
       "    </tr>\n",
       "    <tr>\n",
       "      <th>max</th>\n",
       "      <td>NaN</td>\n",
       "      <td>2008.000000</td>\n",
       "      <td>NaN</td>\n",
       "      <td>NaN</td>\n",
       "      <td>NaN</td>\n",
       "      <td>NaN</td>\n",
       "      <td>NaN</td>\n",
       "      <td>NaN</td>\n",
       "      <td>NaN</td>\n",
       "      <td>NaN</td>\n",
       "      <td>NaN</td>\n",
       "    </tr>\n",
       "  </tbody>\n",
       "</table>\n",
       "</div>"
      ],
      "text/plain": [
       "           City          Year     Sport Discipline   Event          Athlete  \\\n",
       "count     15316  15316.000000     15316      15316   15316            15316   \n",
       "unique        9           NaN        28         41     293            11337   \n",
       "top     Beijing           NaN  Aquatics  Athletics  hockey  PHELPS, Michael   \n",
       "freq       2042           NaN      2210       1523     817               16   \n",
       "mean        NaN   1993.620789       NaN        NaN     NaN              NaN   \n",
       "std         NaN     10.159851       NaN        NaN     NaN              NaN   \n",
       "min         NaN   1976.000000       NaN        NaN     NaN              NaN   \n",
       "25%         NaN   1984.000000       NaN        NaN     NaN              NaN   \n",
       "50%         NaN   1996.000000       NaN        NaN     NaN              NaN   \n",
       "75%         NaN   2004.000000       NaN        NaN     NaN              NaN   \n",
       "max         NaN   2008.000000       NaN        NaN     NaN              NaN   \n",
       "\n",
       "       Gender Country_Code        Country Event_gender   Medal  \n",
       "count   15316        15316          15316        15316   15316  \n",
       "unique      2          128            127            3       3  \n",
       "top       Men          USA  United States            M  Bronze  \n",
       "freq     9388         1992           1992         8817    5258  \n",
       "mean      NaN          NaN            NaN          NaN     NaN  \n",
       "std       NaN          NaN            NaN          NaN     NaN  \n",
       "min       NaN          NaN            NaN          NaN     NaN  \n",
       "25%       NaN          NaN            NaN          NaN     NaN  \n",
       "50%       NaN          NaN            NaN          NaN     NaN  \n",
       "75%       NaN          NaN            NaN          NaN     NaN  \n",
       "max       NaN          NaN            NaN          NaN     NaN  "
      ]
     },
     "execution_count": 9,
     "metadata": {},
     "output_type": "execute_result"
    }
   ],
   "source": [
    "# Summary of the dataset\n",
    "\n",
    "print(olympics.info())\n",
    "print('\\n')\n",
    "olympics.describe(include='all')"
   ]
  },
  {
   "cell_type": "code",
   "execution_count": 10,
   "metadata": {
    "colab": {
     "base_uri": "https://localhost:8080/"
    },
    "id": "JD9glZ8Abat8",
    "outputId": "ad8f88de-3a6b-420a-c7e8-546b746384c8"
   },
   "outputs": [
    {
     "data": {
      "text/plain": [
       "(15316, 11)"
      ]
     },
     "execution_count": 10,
     "metadata": {},
     "output_type": "execute_result"
    }
   ],
   "source": [
    "# Checking total rows and columns\n",
    "\n",
    "olympics.shape"
   ]
  },
  {
   "cell_type": "markdown",
   "metadata": {
    "id": "8PTiO8q-bgnj"
   },
   "source": [
    "There are 15433 rows and 11 columns."
   ]
  },
  {
   "cell_type": "markdown",
   "metadata": {
    "id": "rNenrDyEc7FZ"
   },
   "source": [
    "# 2. Data Cleaning"
   ]
  },
  {
   "cell_type": "code",
   "execution_count": 13,
   "metadata": {
    "colab": {
     "base_uri": "https://localhost:8080/",
     "height": 429
    },
    "id": "DDQV2Kvzb2dq",
    "outputId": "1a61f514-f861-4b5a-913a-9bad93c2061f"
   },
   "outputs": [
    {
     "data": {
      "text/plain": [
       "City            0\n",
       "Year            0\n",
       "Sport           0\n",
       "Discipline      0\n",
       "Event           0\n",
       "Athlete         0\n",
       "Gender          0\n",
       "Country_Code    0\n",
       "Country         0\n",
       "Event_gender    0\n",
       "Medal           0\n",
       "dtype: int64"
      ]
     },
     "execution_count": 13,
     "metadata": {},
     "output_type": "execute_result"
    }
   ],
   "source": [
    "# Checking for missing values\n",
    "\n",
    "olympics.isnull().sum()"
   ]
  },
  {
   "cell_type": "markdown",
   "metadata": {
    "id": "V3TEeXNqY7i3"
   },
   "source": [
    "There are 117 missing values in each column."
   ]
  },
  {
   "cell_type": "code",
   "execution_count": 15,
   "metadata": {
    "colab": {
     "base_uri": "https://localhost:8080/",
     "height": 429
    },
    "id": "1vPjrEZbb2fr",
    "outputId": "960606dc-b1e2-41b6-c7e3-917f4fda3d16"
   },
   "outputs": [
    {
     "data": {
      "text/plain": [
       "City            0\n",
       "Year            0\n",
       "Sport           0\n",
       "Discipline      0\n",
       "Event           0\n",
       "Athlete         0\n",
       "Gender          0\n",
       "Country_Code    0\n",
       "Country         0\n",
       "Event_gender    0\n",
       "Medal           0\n",
       "dtype: int64"
      ]
     },
     "execution_count": 15,
     "metadata": {},
     "output_type": "execute_result"
    }
   ],
   "source": [
    "# Dropping rows with missing values\n",
    "\n",
    "olympics = olympics.dropna()\n",
    "\n",
    "# Rechecking the data after dropping missing row values\n",
    "\n",
    "olympics.isnull().sum()"
   ]
  },
  {
   "cell_type": "code",
   "execution_count": 16,
   "metadata": {
    "colab": {
     "base_uri": "https://localhost:8080/"
    },
    "id": "IztkNt6g8xE8",
    "outputId": "93da286d-422c-4ba0-f0be-5173ecbaf785"
   },
   "outputs": [
    {
     "name": "stdout",
     "output_type": "stream",
     "text": [
      "['Women' 'Men']\n",
      "\n",
      "\n",
      "['W' 'M' 'X']\n"
     ]
    }
   ],
   "source": [
    "# Analysing Gender and Event_gender if they have some actual values\n",
    "\n",
    "print(olympics.Gender.unique())\n",
    "print('\\n')\n",
    "print(olympics.Event_gender.unique())"
   ]
  },
  {
   "cell_type": "markdown",
   "metadata": {
    "id": "BXaxnV1BBH54"
   },
   "source": [
    "* In Event_gender column there is a gender type named 'X' which is of no significance in analysis because corresponding to Gender column it does not give any relevant information."
   ]
  },
  {
   "cell_type": "code",
   "execution_count": 18,
   "metadata": {
    "id": "8q2PKARP-8o7"
   },
   "outputs": [],
   "source": [
    "# Dropping Event_gender\n",
    "\n",
    "olympics = olympics.drop('Event_gender',axis=1)\n",
    "\n",
    "# Dropping Country_Code\n",
    "\n",
    "olympics = olympics.drop('Country_Code',axis=1)"
   ]
  },
  {
   "cell_type": "markdown",
   "metadata": {
    "id": "u1burjmDAIVB"
   },
   "source": [
    "* Dropping Event_gender column as it has no significance in analysis because already there is a column named Gender.\n",
    "\n",
    "* Dropping Country_Code column because there is another column named Country."
   ]
  },
  {
   "cell_type": "code",
   "execution_count": 20,
   "metadata": {
    "id": "2QLnjx88Dr3s"
   },
   "outputs": [],
   "source": [
    "# Converting Year column from float to integer\n",
    "\n",
    "olympics['Year'] = olympics['Year'].astype(int)"
   ]
  },
  {
   "cell_type": "code",
   "execution_count": 21,
   "metadata": {
    "colab": {
     "base_uri": "https://localhost:8080/",
     "height": 363
    },
    "id": "Lg2UzfOYB1iW",
    "outputId": "432cf0d0-5efb-4d0c-dfa2-14f55797d305"
   },
   "outputs": [
    {
     "data": {
      "text/html": [
       "<div>\n",
       "<style scoped>\n",
       "    .dataframe tbody tr th:only-of-type {\n",
       "        vertical-align: middle;\n",
       "    }\n",
       "\n",
       "    .dataframe tbody tr th {\n",
       "        vertical-align: top;\n",
       "    }\n",
       "\n",
       "    .dataframe thead th {\n",
       "        text-align: right;\n",
       "    }\n",
       "</style>\n",
       "<table border=\"1\" class=\"dataframe\">\n",
       "  <thead>\n",
       "    <tr style=\"text-align: right;\">\n",
       "      <th></th>\n",
       "      <th>City</th>\n",
       "      <th>Year</th>\n",
       "      <th>Sport</th>\n",
       "      <th>Discipline</th>\n",
       "      <th>Event</th>\n",
       "      <th>Athlete</th>\n",
       "      <th>Gender</th>\n",
       "      <th>Country</th>\n",
       "      <th>Medal</th>\n",
       "    </tr>\n",
       "  </thead>\n",
       "  <tbody>\n",
       "    <tr>\n",
       "      <th>0</th>\n",
       "      <td>Montreal</td>\n",
       "      <td>1976</td>\n",
       "      <td>Aquatics</td>\n",
       "      <td>Diving</td>\n",
       "      <td>3m springboard</td>\n",
       "      <td>KÃHLER, Christa</td>\n",
       "      <td>Women</td>\n",
       "      <td>East Germany</td>\n",
       "      <td>Silver</td>\n",
       "    </tr>\n",
       "    <tr>\n",
       "      <th>1</th>\n",
       "      <td>Montreal</td>\n",
       "      <td>1976</td>\n",
       "      <td>Aquatics</td>\n",
       "      <td>Diving</td>\n",
       "      <td>3m springboard</td>\n",
       "      <td>KOSENKOV, Aleksandr</td>\n",
       "      <td>Men</td>\n",
       "      <td>Soviet Union</td>\n",
       "      <td>Bronze</td>\n",
       "    </tr>\n",
       "    <tr>\n",
       "      <th>2</th>\n",
       "      <td>Montreal</td>\n",
       "      <td>1976</td>\n",
       "      <td>Aquatics</td>\n",
       "      <td>Diving</td>\n",
       "      <td>3m springboard</td>\n",
       "      <td>BOGGS, Philip George</td>\n",
       "      <td>Men</td>\n",
       "      <td>United States</td>\n",
       "      <td>Gold</td>\n",
       "    </tr>\n",
       "    <tr>\n",
       "      <th>3</th>\n",
       "      <td>Montreal</td>\n",
       "      <td>1976</td>\n",
       "      <td>Aquatics</td>\n",
       "      <td>Diving</td>\n",
       "      <td>3m springboard</td>\n",
       "      <td>CAGNOTTO, Giorgio Franco</td>\n",
       "      <td>Men</td>\n",
       "      <td>Italy</td>\n",
       "      <td>Silver</td>\n",
       "    </tr>\n",
       "    <tr>\n",
       "      <th>4</th>\n",
       "      <td>Montreal</td>\n",
       "      <td>1976</td>\n",
       "      <td>Aquatics</td>\n",
       "      <td>Diving</td>\n",
       "      <td>10m platform</td>\n",
       "      <td>WILSON, Deborah Keplar</td>\n",
       "      <td>Women</td>\n",
       "      <td>United States</td>\n",
       "      <td>Bronze</td>\n",
       "    </tr>\n",
       "    <tr>\n",
       "      <th>5</th>\n",
       "      <td>Montreal</td>\n",
       "      <td>1976</td>\n",
       "      <td>Aquatics</td>\n",
       "      <td>Diving</td>\n",
       "      <td>10m platform</td>\n",
       "      <td>LOUGANIS, Gregory</td>\n",
       "      <td>Men</td>\n",
       "      <td>United States</td>\n",
       "      <td>Silver</td>\n",
       "    </tr>\n",
       "    <tr>\n",
       "      <th>6</th>\n",
       "      <td>Montreal</td>\n",
       "      <td>1976</td>\n",
       "      <td>Aquatics</td>\n",
       "      <td>Diving</td>\n",
       "      <td>10m platform</td>\n",
       "      <td>VAYTSEKHOVSKAYA, Elena</td>\n",
       "      <td>Women</td>\n",
       "      <td>Soviet Union</td>\n",
       "      <td>Gold</td>\n",
       "    </tr>\n",
       "    <tr>\n",
       "      <th>7</th>\n",
       "      <td>Montreal</td>\n",
       "      <td>1976</td>\n",
       "      <td>Aquatics</td>\n",
       "      <td>Diving</td>\n",
       "      <td>3m springboard</td>\n",
       "      <td>POTTER-MCINGVALE, Cynthia</td>\n",
       "      <td>Women</td>\n",
       "      <td>United States</td>\n",
       "      <td>Bronze</td>\n",
       "    </tr>\n",
       "    <tr>\n",
       "      <th>8</th>\n",
       "      <td>Montreal</td>\n",
       "      <td>1976</td>\n",
       "      <td>Aquatics</td>\n",
       "      <td>Diving</td>\n",
       "      <td>10m platform</td>\n",
       "      <td>DIBIASI, Klaus</td>\n",
       "      <td>Men</td>\n",
       "      <td>Italy</td>\n",
       "      <td>Gold</td>\n",
       "    </tr>\n",
       "    <tr>\n",
       "      <th>9</th>\n",
       "      <td>Montreal</td>\n",
       "      <td>1976</td>\n",
       "      <td>Aquatics</td>\n",
       "      <td>Diving</td>\n",
       "      <td>10m platform</td>\n",
       "      <td>ALEINIK, Vladimir</td>\n",
       "      <td>Men</td>\n",
       "      <td>Soviet Union</td>\n",
       "      <td>Bronze</td>\n",
       "    </tr>\n",
       "  </tbody>\n",
       "</table>\n",
       "</div>"
      ],
      "text/plain": [
       "       City  Year     Sport Discipline           Event  \\\n",
       "0  Montreal  1976  Aquatics     Diving  3m springboard   \n",
       "1  Montreal  1976  Aquatics     Diving  3m springboard   \n",
       "2  Montreal  1976  Aquatics     Diving  3m springboard   \n",
       "3  Montreal  1976  Aquatics     Diving  3m springboard   \n",
       "4  Montreal  1976  Aquatics     Diving    10m platform   \n",
       "5  Montreal  1976  Aquatics     Diving    10m platform   \n",
       "6  Montreal  1976  Aquatics     Diving    10m platform   \n",
       "7  Montreal  1976  Aquatics     Diving  3m springboard   \n",
       "8  Montreal  1976  Aquatics     Diving    10m platform   \n",
       "9  Montreal  1976  Aquatics     Diving    10m platform   \n",
       "\n",
       "                     Athlete Gender        Country   Medal  \n",
       "0           KÃHLER, Christa  Women   East Germany  Silver  \n",
       "1        KOSENKOV, Aleksandr    Men   Soviet Union  Bronze  \n",
       "2       BOGGS, Philip George    Men  United States    Gold  \n",
       "3   CAGNOTTO, Giorgio Franco    Men          Italy  Silver  \n",
       "4     WILSON, Deborah Keplar  Women  United States  Bronze  \n",
       "5          LOUGANIS, Gregory    Men  United States  Silver  \n",
       "6     VAYTSEKHOVSKAYA, Elena  Women   Soviet Union    Gold  \n",
       "7  POTTER-MCINGVALE, Cynthia  Women  United States  Bronze  \n",
       "8             DIBIASI, Klaus    Men          Italy    Gold  \n",
       "9          ALEINIK, Vladimir    Men   Soviet Union  Bronze  "
      ]
     },
     "execution_count": 21,
     "metadata": {},
     "output_type": "execute_result"
    }
   ],
   "source": [
    "# Rechecking the dataset after dropping irrelevant rows and columns\n",
    "\n",
    "olympics.head(10)"
   ]
  },
  {
   "cell_type": "code",
   "execution_count": 22,
   "metadata": {
    "colab": {
     "base_uri": "https://localhost:8080/"
    },
    "id": "X8Nkasysb2sU",
    "outputId": "d415a699-e54c-4ccd-9f47-cb1e4e23269a"
   },
   "outputs": [
    {
     "data": {
      "text/plain": [
       "(15316, 9)"
      ]
     },
     "execution_count": 22,
     "metadata": {},
     "output_type": "execute_result"
    }
   ],
   "source": [
    "# Checking total rows and columns after cleaning\n",
    "\n",
    "olympics.shape"
   ]
  },
  {
   "cell_type": "markdown",
   "metadata": {
    "id": "cnZq2cpNcW0s"
   },
   "source": [
    "* There are 15316 rows and 09 columns.\n",
    "* Previously there were 15433 rows and 11 columns."
   ]
  },
  {
   "cell_type": "markdown",
   "metadata": {
    "id": "lJRwInZ3dVKq"
   },
   "source": [
    "# 3. Exploratory Data Analysis (EDA)"
   ]
  },
  {
   "cell_type": "markdown",
   "metadata": {
    "id": "oz96jlcJdc15"
   },
   "source": [
    "### 3.1 Total Medal Count by Country"
   ]
  },
  {
   "cell_type": "code",
   "execution_count": 26,
   "metadata": {
    "colab": {
     "base_uri": "https://localhost:8080/",
     "height": 490
    },
    "id": "TyWoE7J9b2hp",
    "outputId": "1b8af864-869c-494c-f8e3-7856da7cf066"
   },
   "outputs": [
    {
     "data": {
      "text/plain": [
       "Country\n",
       "United States    1992\n",
       "Soviet Union     1021\n",
       "Australia         798\n",
       "Germany           691\n",
       "China             679\n",
       "                 ... \n",
       "Panama              1\n",
       "Senegal             1\n",
       "Sri Lanka           1\n",
       "Sudan               1\n",
       "Macedonia           1\n",
       "Name: Medal, Length: 127, dtype: int64"
      ]
     },
     "execution_count": 26,
     "metadata": {},
     "output_type": "execute_result"
    }
   ],
   "source": [
    "# Total medals won by each country\n",
    "\n",
    "medals_country = olympics.groupby('Country')['Medal'].count().sort_values(ascending = False)\n",
    "medals_country"
   ]
  },
  {
   "cell_type": "code",
   "execution_count": 27,
   "metadata": {
    "colab": {
     "base_uri": "https://localhost:8080/",
     "height": 815
    },
    "id": "3VZsoArOb2mC",
    "outputId": "b23a5777-8e69-4964-e822-de9b3bab368f"
   },
   "outputs": [
    {
     "data": {
      "image/png": "[encoded data removed]",
      "text/plain": [
       "<Figure size 1500x500 with 1 Axes>"
      ]
     },
     "metadata": {},
     "output_type": "display_data"
    }
   ],
   "source": [
    "# Plotting the top 10 countries by total medals\n",
    "\n",
    "plt.figure(figsize = (15,5))\n",
    "medals_country.head(10).plot(kind='bar',color='green',)\n",
    "plt.title('Top 10 countries by medal count')\n",
    "plt.xlabel('Country')\n",
    "plt.ylabel('Total medals')\n",
    "plt.show()"
   ]
  },
  {
   "cell_type": "markdown",
   "metadata": {
    "id": "3E1RlbfpxjWm"
   },
   "source": [
    "Maximum medals are won by United States(1992) followed by Soviet Union(1021) which is in 2nd position. Both the countries have total medals more than 1000 and rest are below 1000."
   ]
  },
  {
   "cell_type": "markdown",
   "metadata": {
    "id": "CEp37q8azV2T"
   },
   "source": [
    "### 3.2 Medals Won Over the Years"
   ]
  },
  {
   "cell_type": "code",
   "execution_count": 30,
   "metadata": {
    "colab": {
     "base_uri": "https://localhost:8080/",
     "height": 398
    },
    "id": "yom7EPSwzkQi",
    "outputId": "0125b86a-6a80-498a-8245-4950e60d1d7c"
   },
   "outputs": [
    {
     "data": {
      "text/plain": [
       "Year\n",
       "1976    1305\n",
       "1980    1387\n",
       "1984    1459\n",
       "1988    1546\n",
       "1992    1705\n",
       "1996    1859\n",
       "2000    2015\n",
       "2004    1998\n",
       "2008    2042\n",
       "Name: Medal, dtype: int64"
      ]
     },
     "execution_count": 30,
     "metadata": {},
     "output_type": "execute_result"
    }
   ],
   "source": [
    "# Grouping by Year and counting the medals won\n",
    "\n",
    "medals_over_years = olympics.groupby('Year')['Medal'].count()\n",
    "medals_over_years"
   ]
  },
  {
   "cell_type": "code",
   "execution_count": 31,
   "metadata": {
    "colab": {
     "base_uri": "https://localhost:8080/",
     "height": 718
    },
    "id": "FVmdSrfqzkO1",
    "outputId": "f80e6a41-d1da-4402-c49f-0653495bce62"
   },
   "outputs": [
    {
     "data": {
      "image/png": "[encoded data removed]",
      "text/plain": [
       "<Figure size 1500x500 with 1 Axes>"
      ]
     },
     "metadata": {},
     "output_type": "display_data"
    }
   ],
   "source": [
    "# Plotting the trend of medals won over the years\n",
    "\n",
    "plt.figure(figsize=(15, 5))\n",
    "plt.plot(medals_over_years.index, medals_over_years.values,\n",
    "marker='o', linestyle='-', color='g')\n",
    "plt.title(\"Medals won over the years\")\n",
    "plt.xlabel(\"Year\")\n",
    "plt.ylabel(\"Total Medals\")\n",
    "plt.grid(True)\n",
    "plt.show()"
   ]
  },
  {
   "cell_type": "markdown",
   "metadata": {
    "id": "kXzYZ9bwSB6H"
   },
   "source": [
    "### 3.3 Gender Distribution in Events"
   ]
  },
  {
   "cell_type": "code",
   "execution_count": 33,
   "metadata": {
    "colab": {
     "base_uri": "https://localhost:8080/",
     "height": 178
    },
    "id": "DmRyNu0nylW1",
    "outputId": "a276f12a-378f-4095-aede-4be7dd9a71fd"
   },
   "outputs": [
    {
     "data": {
      "text/plain": [
       "Gender\n",
       "Men      9388\n",
       "Women    5928\n",
       "Name: count, dtype: int64"
      ]
     },
     "execution_count": 33,
     "metadata": {},
     "output_type": "execute_result"
    }
   ],
   "source": [
    "# Gender Distribution\n",
    "\n",
    "gender_distribution = olympics['Gender'].value_counts()\n",
    "gender_distribution"
   ]
  },
  {
   "cell_type": "code",
   "execution_count": 34,
   "metadata": {
    "colab": {
     "base_uri": "https://localhost:8080/",
     "height": 444
    },
    "id": "EjN3lm9mylUN",
    "outputId": "2cb2c6de-2b4d-4b82-b275-9e53c08df714"
   },
   "outputs": [
    {
     "data": {
      "image/png": "[encoded data removed]",
      "text/plain": [
       "<Figure size 600x500 with 1 Axes>"
      ]
     },
     "metadata": {},
     "output_type": "display_data"
    }
   ],
   "source": [
    "# Plotting Gender Distribution\n",
    "\n",
    "plt.figure(figsize=(6,5))\n",
    "plt.pie(gender_distribution, autopct='%1.1f%%',explode=[0.05, 0],labels=gender_distribution.index)\n",
    "plt.title('Gender Distribution in Events')\n",
    "plt.show()"
   ]
  },
  {
   "cell_type": "markdown",
   "metadata": {
    "id": "DYnlpPG_1nud"
   },
   "source": [
    "From the above pie chart it is found that there are 61% Men and 39% Women participated in the Olympics game."
   ]
  },
  {
   "cell_type": "markdown",
   "metadata": {
    "id": "wforax8o3f80"
   },
   "source": [
    "### 3.4 Top Athletes with Most Medals"
   ]
  },
  {
   "cell_type": "code",
   "execution_count": 37,
   "metadata": {
    "colab": {
     "base_uri": "https://localhost:8080/",
     "height": 363
    },
    "id": "wUg2SbiUylLM",
    "outputId": "58126a70-7931-49c4-94a1-b00895bf0bd3"
   },
   "outputs": [
    {
     "data": {
      "text/html": [
       "<div>\n",
       "<style scoped>\n",
       "    .dataframe tbody tr th:only-of-type {\n",
       "        vertical-align: middle;\n",
       "    }\n",
       "\n",
       "    .dataframe tbody tr th {\n",
       "        vertical-align: top;\n",
       "    }\n",
       "\n",
       "    .dataframe thead th {\n",
       "        text-align: right;\n",
       "    }\n",
       "</style>\n",
       "<table border=\"1\" class=\"dataframe\">\n",
       "  <thead>\n",
       "    <tr style=\"text-align: right;\">\n",
       "      <th></th>\n",
       "      <th>Athlete</th>\n",
       "      <th>Medal_Count</th>\n",
       "    </tr>\n",
       "  </thead>\n",
       "  <tbody>\n",
       "    <tr>\n",
       "      <th>7752</th>\n",
       "      <td>PHELPS, Michael</td>\n",
       "      <td>16</td>\n",
       "    </tr>\n",
       "    <tr>\n",
       "      <th>249</th>\n",
       "      <td>ANDRIANOV, Nikolay</td>\n",
       "      <td>12</td>\n",
       "    </tr>\n",
       "    <tr>\n",
       "      <th>2776</th>\n",
       "      <td>FISCHER, Birgit</td>\n",
       "      <td>12</td>\n",
       "    </tr>\n",
       "    <tr>\n",
       "      <th>7051</th>\n",
       "      <td>NEMOV, Alexei</td>\n",
       "      <td>12</td>\n",
       "    </tr>\n",
       "    <tr>\n",
       "      <th>9884</th>\n",
       "      <td>THOMPSON, Jenny</td>\n",
       "      <td>12</td>\n",
       "    </tr>\n",
       "    <tr>\n",
       "      <th>10019</th>\n",
       "      <td>TORRES, Dara</td>\n",
       "      <td>12</td>\n",
       "    </tr>\n",
       "    <tr>\n",
       "      <th>854</th>\n",
       "      <td>BIONDI, Matthew</td>\n",
       "      <td>11</td>\n",
       "    </tr>\n",
       "    <tr>\n",
       "      <th>1798</th>\n",
       "      <td>COUGHLIN, Natalie</td>\n",
       "      <td>11</td>\n",
       "    </tr>\n",
       "    <tr>\n",
       "      <th>2212</th>\n",
       "      <td>DITYATIN, Aleksandr</td>\n",
       "      <td>10</td>\n",
       "    </tr>\n",
       "    <tr>\n",
       "      <th>3608</th>\n",
       "      <td>HALL, Gary Jr.</td>\n",
       "      <td>10</td>\n",
       "    </tr>\n",
       "  </tbody>\n",
       "</table>\n",
       "</div>"
      ],
      "text/plain": [
       "                   Athlete  Medal_Count\n",
       "7752       PHELPS, Michael           16\n",
       "249     ANDRIANOV, Nikolay           12\n",
       "2776       FISCHER, Birgit           12\n",
       "7051         NEMOV, Alexei           12\n",
       "9884       THOMPSON, Jenny           12\n",
       "10019         TORRES, Dara           12\n",
       "854        BIONDI, Matthew           11\n",
       "1798     COUGHLIN, Natalie           11\n",
       "2212   DITYATIN, Aleksandr           10\n",
       "3608        HALL, Gary Jr.           10"
      ]
     },
     "execution_count": 37,
     "metadata": {},
     "output_type": "execute_result"
    }
   ],
   "source": [
    "# Analysing athlete with most medals sorted by medals first and then by athlete name\n",
    "\n",
    "athlete_medals = olympics.groupby('Athlete')['Medal'].count().reset_index(name='Medal_Count').sort_values(by=['Medal_Count', 'Athlete'], ascending=[False, True])[:10]\n",
    "athlete_medals"
   ]
  },
  {
   "cell_type": "code",
   "execution_count": 38,
   "metadata": {
    "colab": {
     "base_uri": "https://localhost:8080/",
     "height": 848
    },
    "id": "v1kpW9duylDE",
    "outputId": "6cfea2c2-6f4a-493d-eab4-44adfa1d05f3"
   },
   "outputs": [
    {
     "data": {
      "image/png": "[encoded data removed]",
      "text/plain": [
       "<Figure size 1500x500 with 1 Axes>"
      ]
     },
     "metadata": {},
     "output_type": "display_data"
    }
   ],
   "source": [
    "# Plotting top 10 athletes according to medals\n",
    "\n",
    "plt.figure(figsize=(15,5))\n",
    "plt.bar(x=athlete_medals['Athlete'],height=athlete_medals['Medal_Count'],width=0.5,color='green')\n",
    "plt.title('Top 10 Atheletes by Medals')\n",
    "plt.xlabel('Athlete')\n",
    "plt.ylabel('Total Medals over the period')\n",
    "plt.xticks(rotation=90)\n",
    "plt.show()"
   ]
  },
  {
   "cell_type": "markdown",
   "metadata": {
    "id": "Su3pfH5cRSKG"
   },
   "source": [
    "* Michael Phelps won 16 medals from 1976 to 2008."
   ]
  },
  {
   "cell_type": "markdown",
   "metadata": {
    "id": "xN19DQ7ECQIb"
   },
   "source": [
    "### 3.5 City hosted maximum number of olympics"
   ]
  },
  {
   "cell_type": "code",
   "execution_count": 41,
   "metadata": {
    "colab": {
     "base_uri": "https://localhost:8080/",
     "height": 424
    },
    "id": "8dhP_J2xykn9",
    "outputId": "33f5175c-3b5a-4ab6-c8f5-7bf518387e8f"
   },
   "outputs": [
    {
     "data": {
      "text/html": [
       "<div>\n",
       "<style scoped>\n",
       "    .dataframe tbody tr th:only-of-type {\n",
       "        vertical-align: middle;\n",
       "    }\n",
       "\n",
       "    .dataframe tbody tr th {\n",
       "        vertical-align: top;\n",
       "    }\n",
       "\n",
       "    .dataframe thead th {\n",
       "        text-align: right;\n",
       "    }\n",
       "</style>\n",
       "<table border=\"1\" class=\"dataframe\">\n",
       "  <thead>\n",
       "    <tr style=\"text-align: right;\">\n",
       "      <th></th>\n",
       "      <th>City</th>\n",
       "      <th>Year</th>\n",
       "    </tr>\n",
       "  </thead>\n",
       "  <tbody>\n",
       "    <tr>\n",
       "      <th>0</th>\n",
       "      <td>Montreal</td>\n",
       "      <td>1976</td>\n",
       "    </tr>\n",
       "    <tr>\n",
       "      <th>1</th>\n",
       "      <td>Montreal</td>\n",
       "      <td>1976</td>\n",
       "    </tr>\n",
       "    <tr>\n",
       "      <th>2</th>\n",
       "      <td>Montreal</td>\n",
       "      <td>1976</td>\n",
       "    </tr>\n",
       "    <tr>\n",
       "      <th>3</th>\n",
       "      <td>Montreal</td>\n",
       "      <td>1976</td>\n",
       "    </tr>\n",
       "    <tr>\n",
       "      <th>4</th>\n",
       "      <td>Montreal</td>\n",
       "      <td>1976</td>\n",
       "    </tr>\n",
       "    <tr>\n",
       "      <th>...</th>\n",
       "      <td>...</td>\n",
       "      <td>...</td>\n",
       "    </tr>\n",
       "    <tr>\n",
       "      <th>15311</th>\n",
       "      <td>Beijing</td>\n",
       "      <td>2008</td>\n",
       "    </tr>\n",
       "    <tr>\n",
       "      <th>15312</th>\n",
       "      <td>Beijing</td>\n",
       "      <td>2008</td>\n",
       "    </tr>\n",
       "    <tr>\n",
       "      <th>15313</th>\n",
       "      <td>Beijing</td>\n",
       "      <td>2008</td>\n",
       "    </tr>\n",
       "    <tr>\n",
       "      <th>15314</th>\n",
       "      <td>Beijing</td>\n",
       "      <td>2008</td>\n",
       "    </tr>\n",
       "    <tr>\n",
       "      <th>15315</th>\n",
       "      <td>Beijing</td>\n",
       "      <td>2008</td>\n",
       "    </tr>\n",
       "  </tbody>\n",
       "</table>\n",
       "<p>15316 rows × 2 columns</p>\n",
       "</div>"
      ],
      "text/plain": [
       "           City  Year\n",
       "0      Montreal  1976\n",
       "1      Montreal  1976\n",
       "2      Montreal  1976\n",
       "3      Montreal  1976\n",
       "4      Montreal  1976\n",
       "...         ...   ...\n",
       "15311   Beijing  2008\n",
       "15312   Beijing  2008\n",
       "15313   Beijing  2008\n",
       "15314   Beijing  2008\n",
       "15315   Beijing  2008\n",
       "\n",
       "[15316 rows x 2 columns]"
      ]
     },
     "execution_count": 41,
     "metadata": {},
     "output_type": "execute_result"
    }
   ],
   "source": [
    "# City hosted olympics and its respective year\n",
    "\n",
    "city_hosted = olympics[[\"City\", 'Year']]\n",
    "city_hosted"
   ]
  },
  {
   "cell_type": "code",
   "execution_count": 42,
   "metadata": {
    "colab": {
     "base_uri": "https://localhost:8080/",
     "height": 332
    },
    "id": "onm06Ep9AvdC",
    "outputId": "59be211b-9dd8-47b0-e56f-fdb973e1eb0f"
   },
   "outputs": [
    {
     "data": {
      "text/html": [
       "<div>\n",
       "<style scoped>\n",
       "    .dataframe tbody tr th:only-of-type {\n",
       "        vertical-align: middle;\n",
       "    }\n",
       "\n",
       "    .dataframe tbody tr th {\n",
       "        vertical-align: top;\n",
       "    }\n",
       "\n",
       "    .dataframe thead th {\n",
       "        text-align: right;\n",
       "    }\n",
       "</style>\n",
       "<table border=\"1\" class=\"dataframe\">\n",
       "  <thead>\n",
       "    <tr style=\"text-align: right;\">\n",
       "      <th></th>\n",
       "      <th>City</th>\n",
       "      <th>Year</th>\n",
       "    </tr>\n",
       "  </thead>\n",
       "  <tbody>\n",
       "    <tr>\n",
       "      <th>0</th>\n",
       "      <td>Montreal</td>\n",
       "      <td>1976</td>\n",
       "    </tr>\n",
       "    <tr>\n",
       "      <th>1305</th>\n",
       "      <td>Moscow</td>\n",
       "      <td>1980</td>\n",
       "    </tr>\n",
       "    <tr>\n",
       "      <th>2692</th>\n",
       "      <td>Los Angeles</td>\n",
       "      <td>1984</td>\n",
       "    </tr>\n",
       "    <tr>\n",
       "      <th>4151</th>\n",
       "      <td>Seoul</td>\n",
       "      <td>1988</td>\n",
       "    </tr>\n",
       "    <tr>\n",
       "      <th>5697</th>\n",
       "      <td>Barcelona</td>\n",
       "      <td>1992</td>\n",
       "    </tr>\n",
       "    <tr>\n",
       "      <th>7402</th>\n",
       "      <td>Atlanta</td>\n",
       "      <td>1996</td>\n",
       "    </tr>\n",
       "    <tr>\n",
       "      <th>9261</th>\n",
       "      <td>Sydney</td>\n",
       "      <td>2000</td>\n",
       "    </tr>\n",
       "    <tr>\n",
       "      <th>11276</th>\n",
       "      <td>Athens</td>\n",
       "      <td>2004</td>\n",
       "    </tr>\n",
       "    <tr>\n",
       "      <th>13274</th>\n",
       "      <td>Beijing</td>\n",
       "      <td>2008</td>\n",
       "    </tr>\n",
       "  </tbody>\n",
       "</table>\n",
       "</div>"
      ],
      "text/plain": [
       "              City  Year\n",
       "0         Montreal  1976\n",
       "1305        Moscow  1980\n",
       "2692   Los Angeles  1984\n",
       "4151         Seoul  1988\n",
       "5697     Barcelona  1992\n",
       "7402       Atlanta  1996\n",
       "9261        Sydney  2000\n",
       "11276       Athens  2004\n",
       "13274      Beijing  2008"
      ]
     },
     "execution_count": 42,
     "metadata": {},
     "output_type": "execute_result"
    }
   ],
   "source": [
    "# Dropping duplicate years to get the only year of the city hosted\n",
    "\n",
    "city_hosted=city_hosted.drop_duplicates('Year')\n",
    "city_hosted"
   ]
  },
  {
   "cell_type": "code",
   "execution_count": 43,
   "metadata": {
    "colab": {
     "base_uri": "https://localhost:8080/",
     "height": 398
    },
    "id": "1ulz-UD1AvrL",
    "outputId": "43ead4e3-3a9d-45f8-bf95-9ec14fa7acca"
   },
   "outputs": [
    {
     "data": {
      "text/plain": [
       "City\n",
       "Montreal       1\n",
       "Moscow         1\n",
       "Los Angeles    1\n",
       "Seoul          1\n",
       "Barcelona      1\n",
       "Atlanta        1\n",
       "Sydney         1\n",
       "Athens         1\n",
       "Beijing        1\n",
       "Name: count, dtype: int64"
      ]
     },
     "execution_count": 43,
     "metadata": {},
     "output_type": "execute_result"
    }
   ],
   "source": [
    "# Number of times city hosted olympics\n",
    "\n",
    "num_times_hosted = city_hosted['City'].value_counts()\n",
    "num_times_hosted"
   ]
  },
  {
   "cell_type": "markdown",
   "metadata": {
    "id": "0BxZTXreDBL9"
   },
   "source": [
    "* No city hosted olympics twice since 1976."
   ]
  },
  {
   "cell_type": "markdown",
   "metadata": {
    "id": "qydfQWljHVQN"
   },
   "source": [
    "### 3.6 City hosted most events"
   ]
  },
  {
   "cell_type": "code",
   "execution_count": 46,
   "metadata": {
    "colab": {
     "base_uri": "https://localhost:8080/",
     "height": 398
    },
    "id": "vgAhlizcAvzk",
    "outputId": "7a68d75a-4b46-461f-a978-6ecd01f9846b"
   },
   "outputs": [
    {
     "data": {
      "text/plain": [
       "City\n",
       "Beijing        2042\n",
       "Sydney         2015\n",
       "Athens         1998\n",
       "Atlanta        1859\n",
       "Barcelona      1705\n",
       "Seoul          1546\n",
       "Los Angeles    1459\n",
       "Moscow         1387\n",
       "Montreal       1305\n",
       "Name: count, dtype: int64"
      ]
     },
     "execution_count": 46,
     "metadata": {},
     "output_type": "execute_result"
    }
   ],
   "source": [
    "# Analysing city with most events\n",
    "\n",
    "city_events=olympics['City'].value_counts()\n",
    "city_events"
   ]
  },
  {
   "cell_type": "code",
   "execution_count": 47,
   "metadata": {
    "colab": {
     "base_uri": "https://localhost:8080/",
     "height": 718
    },
    "id": "izc5_o0uI9c6",
    "outputId": "2c21ade9-04ba-45bc-ff84-5162bb957622"
   },
   "outputs": [
    {
     "data": {
      "image/png": "[encoded data removed]",
      "text/plain": [
       "<Figure size 1500x500 with 1 Axes>"
      ]
     },
     "metadata": {},
     "output_type": "display_data"
    }
   ],
   "source": [
    "# Plotting city with most hosted events\n",
    "\n",
    "plt.figure(figsize=(15,5))\n",
    "plt.bar(city_events.index,city_events.values,width=0.5,color='green')\n",
    "plt.title('City hosted most events')\n",
    "plt.xlabel('City')\n",
    "plt.ylabel('Number of events')\n",
    "plt.show()"
   ]
  },
  {
   "cell_type": "markdown",
   "metadata": {
    "id": "ROKIsqnDKOD6"
   },
   "source": [
    "* Beijing has hosted most number of events since 1976 till 2008 followed by Sydney an Athens."
   ]
  },
  {
   "cell_type": "markdown",
   "metadata": {
    "id": "-2_rp3CRMBfI"
   },
   "source": [
    "### 3.7 Understanding the events itself"
   ]
  },
  {
   "cell_type": "code",
   "execution_count": 50,
   "metadata": {
    "colab": {
     "base_uri": "https://localhost:8080/",
     "height": 178
    },
    "id": "7qBnq6Y5I9Ur",
    "outputId": "0b88b266-4072-4e73-88e1-97c2578ae0ed"
   },
   "outputs": [
    {
     "data": {
      "text/plain": [
       "Sport          28\n",
       "Discipline     41\n",
       "Event         293\n",
       "dtype: int64"
      ]
     },
     "execution_count": 50,
     "metadata": {},
     "output_type": "execute_result"
    }
   ],
   "source": [
    "# Looking for each unique sports,discipline and event\n",
    "\n",
    "olympics[['Sport','Discipline','Event']].nunique()"
   ]
  },
  {
   "cell_type": "markdown",
   "metadata": {
    "id": "cKU0k9rKQWdj"
   },
   "source": [
    "* There are 28 different types of Sports\n",
    "* There are 41 different types of disciplines\n",
    "* There are 293 different types of events"
   ]
  },
  {
   "cell_type": "code",
   "execution_count": 52,
   "metadata": {
    "colab": {
     "base_uri": "https://localhost:8080/",
     "height": 490
    },
    "id": "V_zgML22RbX_",
    "outputId": "d00bf264-43df-430c-a29d-934a7b5f2e46"
   },
   "outputs": [
    {
     "data": {
      "text/plain": [
       "Sport       Discipline       Event     \n",
       "Hockey      Hockey           hockey        817\n",
       "Handball    Handball         handball      780\n",
       "Football    Football         football      669\n",
       "Volleyball  Volleyball       volleyball    647\n",
       "Basketball  Basketball       basketball    646\n",
       "                                          ... \n",
       "Wrestling   Wrestling Free.  63 - 69kg       3\n",
       "Cycling     BMX              Individual      3\n",
       "Wrestling   Wrestling Free.  69 - 76kg       3\n",
       "                             76 - 85kg       3\n",
       "            Wrestling Gre-R  97 - 130kg      3\n",
       "Name: count, Length: 334, dtype: int64"
      ]
     },
     "execution_count": 52,
     "metadata": {},
     "output_type": "execute_result"
    }
   ],
   "source": [
    "# Looking for total unique comnbinations of sports,its discipline and its event that are being played\n",
    "\n",
    "all_sports=olympics[['Sport','Discipline','Event']].value_counts()\n",
    "all_sports"
   ]
  },
  {
   "cell_type": "markdown",
   "metadata": {
    "id": "_65mA1i2vIZI"
   },
   "source": [
    "* There are 334 unique combinations of sports that are being played"
   ]
  },
  {
   "cell_type": "code",
   "execution_count": 54,
   "metadata": {
    "colab": {
     "base_uri": "https://localhost:8080/",
     "height": 835
    },
    "id": "RD4l4x4lI9E8",
    "outputId": "e86a46ac-1861-4421-945c-7adf4724361e"
   },
   "outputs": [
    {
     "data": {
      "image/png": "[encoded data removed]",
      "text/plain": [
       "<Figure size 1500x800 with 1 Axes>"
      ]
     },
     "metadata": {},
     "output_type": "display_data"
    }
   ],
   "source": [
    "# Plotting Sports column for unique values\n",
    "\n",
    "sports_plot=olympics['Sport'].value_counts().sort_values(ascending=False)\n",
    "\n",
    "plt.figure(figsize=(15,8))\n",
    "plt.bar(sports_plot.index,sports_plot.values,width=0.5,color='green')\n",
    "plt.title('Sports column')\n",
    "plt.xlabel('Sports')\n",
    "plt.xlabel('Number of times the sport')\n",
    "plt.xticks(rotation=90)\n",
    "plt.show()"
   ]
  },
  {
   "cell_type": "markdown",
   "metadata": {
    "id": "W99WEmSegZqN"
   },
   "source": [
    "* Top 3 most played sport are Aquatic,Athletics and Rowing having Aquatics being the most played sport.\n",
    "* Bottom 3 least played sport are Modern Pentathlon,Taekwondo and Triathlon having Triathlon being the  least played sport."
   ]
  },
  {
   "cell_type": "markdown",
   "metadata": {
    "id": "liURZTgYOq1B"
   },
   "source": [
    "* Michael Phelps won 16 medals from 1976 to 2008."
   ]
  },
  {
   "cell_type": "markdown",
   "metadata": {
    "id": "KGwHy0C5O8Ak"
   },
   "source": [
    "### 3.8 Gender ratio"
   ]
  },
  {
   "cell_type": "code",
   "execution_count": 58,
   "metadata": {
    "id": "8u9GSaT_zsDc"
   },
   "outputs": [],
   "source": [
    "# Total participants per gender\n",
    "\n",
    "participant = olympics.groupby('Gender')['Gender'].count()\n",
    "\n",
    "# Total medals won per gender\n",
    "\n",
    "medals_won = olympics.groupby('Gender')['Medal'].count()"
   ]
  },
  {
   "cell_type": "code",
   "execution_count": 59,
   "metadata": {
    "colab": {
     "base_uri": "https://localhost:8080/",
     "height": 143
    },
    "id": "3G3zKAwazr5D",
    "outputId": "eb50483d-804f-4494-da67-ce8c47be1cec"
   },
   "outputs": [
    {
     "data": {
      "text/html": [
       "<div>\n",
       "<style scoped>\n",
       "    .dataframe tbody tr th:only-of-type {\n",
       "        vertical-align: middle;\n",
       "    }\n",
       "\n",
       "    .dataframe tbody tr th {\n",
       "        vertical-align: top;\n",
       "    }\n",
       "\n",
       "    .dataframe thead th {\n",
       "        text-align: right;\n",
       "    }\n",
       "</style>\n",
       "<table border=\"1\" class=\"dataframe\">\n",
       "  <thead>\n",
       "    <tr style=\"text-align: right;\">\n",
       "      <th></th>\n",
       "      <th>Total Participant</th>\n",
       "      <th>Total Medals</th>\n",
       "    </tr>\n",
       "    <tr>\n",
       "      <th>Gender</th>\n",
       "      <th></th>\n",
       "      <th></th>\n",
       "    </tr>\n",
       "  </thead>\n",
       "  <tbody>\n",
       "    <tr>\n",
       "      <th>Men</th>\n",
       "      <td>9388</td>\n",
       "      <td>9388</td>\n",
       "    </tr>\n",
       "    <tr>\n",
       "      <th>Women</th>\n",
       "      <td>5928</td>\n",
       "      <td>5928</td>\n",
       "    </tr>\n",
       "  </tbody>\n",
       "</table>\n",
       "</div>"
      ],
      "text/plain": [
       "        Total Participant  Total Medals\n",
       "Gender                                 \n",
       "Men                  9388          9388\n",
       "Women                5928          5928"
      ]
     },
     "execution_count": 59,
     "metadata": {},
     "output_type": "execute_result"
    }
   ],
   "source": [
    "# Participants and their total medals\n",
    "\n",
    "gender_participants = pd.DataFrame({'Total Participant':participant,'Total Medals':medals_won})\n",
    "gender_participants"
   ]
  },
  {
   "cell_type": "markdown",
   "metadata": {
    "id": "aLrbNrH3XkGU"
   },
   "source": [
    "* 9388 males participated and all have won medals.\n",
    "* 5928 females participated and all have won medals too."
   ]
  },
  {
   "cell_type": "code",
   "execution_count": 61,
   "metadata": {
    "colab": {
     "base_uri": "https://localhost:8080/",
     "height": 487
    },
    "id": "VIqi4d0IbGYM",
    "outputId": "68e6f20b-e7ed-41e8-89ff-dd4ed543943c"
   },
   "outputs": [
    {
     "data": {
      "image/png": "[encoded data removed]",
      "text/plain": [
       "<Figure size 1000x500 with 1 Axes>"
      ]
     },
     "metadata": {},
     "output_type": "display_data"
    }
   ],
   "source": [
    "# Plotting the gender with medals\n",
    "\n",
    "plt.figure(figsize=(10,5))\n",
    "plt.barh(gender_participants.index,gender_participants['Total Medals'],color='teal')\n",
    "plt.title('Gender Ratio')\n",
    "plt.xlabel('Medals won')\n",
    "plt.ylabel('Gender')\n",
    "plt.show()"
   ]
  },
  {
   "cell_type": "markdown",
   "metadata": {
    "id": "qfKbPwC6d6rF"
   },
   "source": [
    "* Here it is evident that there are some sports where females are not participating or the game is not meant for them."
   ]
  },
  {
   "cell_type": "markdown",
   "metadata": {
    "id": "lgSor3Nr3M3X"
   },
   "source": [
    "### 3.9 Country has won most medal and how many in each year"
   ]
  },
  {
   "cell_type": "code",
   "execution_count": 64,
   "metadata": {
    "colab": {
     "base_uri": "https://localhost:8080/",
     "height": 424
    },
    "id": "qJNrjsz_bGF5",
    "outputId": "d8959884-e14c-473c-f226-cbd3b173483f"
   },
   "outputs": [
    {
     "data": {
      "text/html": [
       "<div>\n",
       "<style scoped>\n",
       "    .dataframe tbody tr th:only-of-type {\n",
       "        vertical-align: middle;\n",
       "    }\n",
       "\n",
       "    .dataframe tbody tr th {\n",
       "        vertical-align: top;\n",
       "    }\n",
       "\n",
       "    .dataframe thead th {\n",
       "        text-align: right;\n",
       "    }\n",
       "</style>\n",
       "<table border=\"1\" class=\"dataframe\">\n",
       "  <thead>\n",
       "    <tr style=\"text-align: right;\">\n",
       "      <th></th>\n",
       "      <th>Year</th>\n",
       "      <th>Country</th>\n",
       "      <th>Medal</th>\n",
       "    </tr>\n",
       "  </thead>\n",
       "  <tbody>\n",
       "    <tr>\n",
       "      <th>0</th>\n",
       "      <td>1976</td>\n",
       "      <td>East Germany</td>\n",
       "      <td>Silver</td>\n",
       "    </tr>\n",
       "    <tr>\n",
       "      <th>1</th>\n",
       "      <td>1976</td>\n",
       "      <td>Soviet Union</td>\n",
       "      <td>Bronze</td>\n",
       "    </tr>\n",
       "    <tr>\n",
       "      <th>2</th>\n",
       "      <td>1976</td>\n",
       "      <td>United States</td>\n",
       "      <td>Gold</td>\n",
       "    </tr>\n",
       "    <tr>\n",
       "      <th>3</th>\n",
       "      <td>1976</td>\n",
       "      <td>Italy</td>\n",
       "      <td>Silver</td>\n",
       "    </tr>\n",
       "    <tr>\n",
       "      <th>4</th>\n",
       "      <td>1976</td>\n",
       "      <td>United States</td>\n",
       "      <td>Bronze</td>\n",
       "    </tr>\n",
       "    <tr>\n",
       "      <th>...</th>\n",
       "      <td>...</td>\n",
       "      <td>...</td>\n",
       "      <td>...</td>\n",
       "    </tr>\n",
       "    <tr>\n",
       "      <th>15311</th>\n",
       "      <td>2008</td>\n",
       "      <td>France</td>\n",
       "      <td>Bronze</td>\n",
       "    </tr>\n",
       "    <tr>\n",
       "      <th>15312</th>\n",
       "      <td>2008</td>\n",
       "      <td>Georgia</td>\n",
       "      <td>Gold</td>\n",
       "    </tr>\n",
       "    <tr>\n",
       "      <th>15313</th>\n",
       "      <td>2008</td>\n",
       "      <td>Azerbaijan</td>\n",
       "      <td>Silver</td>\n",
       "    </tr>\n",
       "    <tr>\n",
       "      <th>15314</th>\n",
       "      <td>2008</td>\n",
       "      <td>France</td>\n",
       "      <td>Gold</td>\n",
       "    </tr>\n",
       "    <tr>\n",
       "      <th>15315</th>\n",
       "      <td>2008</td>\n",
       "      <td>Cuba</td>\n",
       "      <td>Gold</td>\n",
       "    </tr>\n",
       "  </tbody>\n",
       "</table>\n",
       "<p>15316 rows × 3 columns</p>\n",
       "</div>"
      ],
      "text/plain": [
       "       Year        Country   Medal\n",
       "0      1976   East Germany  Silver\n",
       "1      1976   Soviet Union  Bronze\n",
       "2      1976  United States    Gold\n",
       "3      1976          Italy  Silver\n",
       "4      1976  United States  Bronze\n",
       "...     ...            ...     ...\n",
       "15311  2008         France  Bronze\n",
       "15312  2008        Georgia    Gold\n",
       "15313  2008     Azerbaijan  Silver\n",
       "15314  2008         France    Gold\n",
       "15315  2008           Cuba    Gold\n",
       "\n",
       "[15316 rows x 3 columns]"
      ]
     },
     "execution_count": 64,
     "metadata": {},
     "output_type": "execute_result"
    }
   ],
   "source": [
    "# Analysing Year,Country and Medal column from Olympics table for faster process\n",
    "\n",
    "medal_each_year = olympics[['Year','Country','Medal']]\n",
    "medal_each_year"
   ]
  },
  {
   "cell_type": "code",
   "execution_count": 65,
   "metadata": {
    "colab": {
     "base_uri": "https://localhost:8080/",
     "height": 424
    },
    "id": "bmv0jjFy2kXB",
    "outputId": "8fbde5aa-cc32-4a87-ed03-22d82c5705e9"
   },
   "outputs": [
    {
     "data": {
      "text/html": [
       "<div>\n",
       "<style scoped>\n",
       "    .dataframe tbody tr th:only-of-type {\n",
       "        vertical-align: middle;\n",
       "    }\n",
       "\n",
       "    .dataframe tbody tr th {\n",
       "        vertical-align: top;\n",
       "    }\n",
       "\n",
       "    .dataframe thead th {\n",
       "        text-align: right;\n",
       "    }\n",
       "</style>\n",
       "<table border=\"1\" class=\"dataframe\">\n",
       "  <thead>\n",
       "    <tr style=\"text-align: right;\">\n",
       "      <th></th>\n",
       "      <th>Year</th>\n",
       "      <th>Country</th>\n",
       "      <th>Medal</th>\n",
       "      <th>Count</th>\n",
       "    </tr>\n",
       "  </thead>\n",
       "  <tbody>\n",
       "    <tr>\n",
       "      <th>0</th>\n",
       "      <td>1976</td>\n",
       "      <td>Australia</td>\n",
       "      <td>Bronze</td>\n",
       "      <td>8</td>\n",
       "    </tr>\n",
       "    <tr>\n",
       "      <th>1</th>\n",
       "      <td>1976</td>\n",
       "      <td>Australia</td>\n",
       "      <td>Silver</td>\n",
       "      <td>16</td>\n",
       "    </tr>\n",
       "    <tr>\n",
       "      <th>2</th>\n",
       "      <td>1976</td>\n",
       "      <td>Austria</td>\n",
       "      <td>Bronze</td>\n",
       "      <td>1</td>\n",
       "    </tr>\n",
       "    <tr>\n",
       "      <th>3</th>\n",
       "      <td>1976</td>\n",
       "      <td>Belgium</td>\n",
       "      <td>Bronze</td>\n",
       "      <td>6</td>\n",
       "    </tr>\n",
       "    <tr>\n",
       "      <th>4</th>\n",
       "      <td>1976</td>\n",
       "      <td>Belgium</td>\n",
       "      <td>Silver</td>\n",
       "      <td>3</td>\n",
       "    </tr>\n",
       "    <tr>\n",
       "      <th>...</th>\n",
       "      <td>...</td>\n",
       "      <td>...</td>\n",
       "      <td>...</td>\n",
       "      <td>...</td>\n",
       "    </tr>\n",
       "    <tr>\n",
       "      <th>1210</th>\n",
       "      <td>2008</td>\n",
       "      <td>Uzbekistan</td>\n",
       "      <td>Silver</td>\n",
       "      <td>2</td>\n",
       "    </tr>\n",
       "    <tr>\n",
       "      <th>1211</th>\n",
       "      <td>2008</td>\n",
       "      <td>Venezuela</td>\n",
       "      <td>Bronze</td>\n",
       "      <td>1</td>\n",
       "    </tr>\n",
       "    <tr>\n",
       "      <th>1212</th>\n",
       "      <td>2008</td>\n",
       "      <td>Vietnam</td>\n",
       "      <td>Silver</td>\n",
       "      <td>1</td>\n",
       "    </tr>\n",
       "    <tr>\n",
       "      <th>1213</th>\n",
       "      <td>2008</td>\n",
       "      <td>Zimbabwe</td>\n",
       "      <td>Gold</td>\n",
       "      <td>1</td>\n",
       "    </tr>\n",
       "    <tr>\n",
       "      <th>1214</th>\n",
       "      <td>2008</td>\n",
       "      <td>Zimbabwe</td>\n",
       "      <td>Silver</td>\n",
       "      <td>3</td>\n",
       "    </tr>\n",
       "  </tbody>\n",
       "</table>\n",
       "<p>1215 rows × 4 columns</p>\n",
       "</div>"
      ],
      "text/plain": [
       "      Year     Country   Medal  Count\n",
       "0     1976   Australia  Bronze      8\n",
       "1     1976   Australia  Silver     16\n",
       "2     1976     Austria  Bronze      1\n",
       "3     1976     Belgium  Bronze      6\n",
       "4     1976     Belgium  Silver      3\n",
       "...    ...         ...     ...    ...\n",
       "1210  2008  Uzbekistan  Silver      2\n",
       "1211  2008   Venezuela  Bronze      1\n",
       "1212  2008     Vietnam  Silver      1\n",
       "1213  2008    Zimbabwe    Gold      1\n",
       "1214  2008    Zimbabwe  Silver      3\n",
       "\n",
       "[1215 rows x 4 columns]"
      ]
     },
     "execution_count": 65,
     "metadata": {},
     "output_type": "execute_result"
    }
   ],
   "source": [
    "# Grouping Year,Country and Medal column to get medals won by each country\n",
    "\n",
    "medal_each_year= medal_each_year.groupby(['Year','Country','Medal'])['Country'].count().reset_index(name='Count')\n",
    "medal_each_year"
   ]
  },
  {
   "cell_type": "code",
   "execution_count": 66,
   "metadata": {
    "colab": {
     "base_uri": "https://localhost:8080/",
     "height": 424
    },
    "id": "njNBf-qs2kUo",
    "outputId": "b55af1d4-d2e0-4542-9656-b9313d80b065"
   },
   "outputs": [
    {
     "data": {
      "text/html": [
       "<div>\n",
       "<style scoped>\n",
       "    .dataframe tbody tr th:only-of-type {\n",
       "        vertical-align: middle;\n",
       "    }\n",
       "\n",
       "    .dataframe tbody tr th {\n",
       "        vertical-align: top;\n",
       "    }\n",
       "\n",
       "    .dataframe thead th {\n",
       "        text-align: right;\n",
       "    }\n",
       "</style>\n",
       "<table border=\"1\" class=\"dataframe\">\n",
       "  <thead>\n",
       "    <tr style=\"text-align: right;\">\n",
       "      <th></th>\n",
       "      <th>Year</th>\n",
       "      <th>Country</th>\n",
       "      <th>Medal</th>\n",
       "      <th>Count</th>\n",
       "    </tr>\n",
       "  </thead>\n",
       "  <tbody>\n",
       "    <tr>\n",
       "      <th>0</th>\n",
       "      <td>1976</td>\n",
       "      <td>Australia</td>\n",
       "      <td>Bronze</td>\n",
       "      <td>8</td>\n",
       "    </tr>\n",
       "    <tr>\n",
       "      <th>1</th>\n",
       "      <td>1976</td>\n",
       "      <td>Australia</td>\n",
       "      <td>Silver</td>\n",
       "      <td>16</td>\n",
       "    </tr>\n",
       "    <tr>\n",
       "      <th>2</th>\n",
       "      <td>1976</td>\n",
       "      <td>Austria</td>\n",
       "      <td>Bronze</td>\n",
       "      <td>1</td>\n",
       "    </tr>\n",
       "    <tr>\n",
       "      <th>3</th>\n",
       "      <td>1976</td>\n",
       "      <td>Belgium</td>\n",
       "      <td>Bronze</td>\n",
       "      <td>6</td>\n",
       "    </tr>\n",
       "    <tr>\n",
       "      <th>4</th>\n",
       "      <td>1976</td>\n",
       "      <td>Belgium</td>\n",
       "      <td>Silver</td>\n",
       "      <td>3</td>\n",
       "    </tr>\n",
       "    <tr>\n",
       "      <th>...</th>\n",
       "      <td>...</td>\n",
       "      <td>...</td>\n",
       "      <td>...</td>\n",
       "      <td>...</td>\n",
       "    </tr>\n",
       "    <tr>\n",
       "      <th>1210</th>\n",
       "      <td>2008</td>\n",
       "      <td>Uzbekistan</td>\n",
       "      <td>Silver</td>\n",
       "      <td>2</td>\n",
       "    </tr>\n",
       "    <tr>\n",
       "      <th>1211</th>\n",
       "      <td>2008</td>\n",
       "      <td>Venezuela</td>\n",
       "      <td>Bronze</td>\n",
       "      <td>1</td>\n",
       "    </tr>\n",
       "    <tr>\n",
       "      <th>1212</th>\n",
       "      <td>2008</td>\n",
       "      <td>Vietnam</td>\n",
       "      <td>Silver</td>\n",
       "      <td>1</td>\n",
       "    </tr>\n",
       "    <tr>\n",
       "      <th>1213</th>\n",
       "      <td>2008</td>\n",
       "      <td>Zimbabwe</td>\n",
       "      <td>Gold</td>\n",
       "      <td>1</td>\n",
       "    </tr>\n",
       "    <tr>\n",
       "      <th>1214</th>\n",
       "      <td>2008</td>\n",
       "      <td>Zimbabwe</td>\n",
       "      <td>Silver</td>\n",
       "      <td>3</td>\n",
       "    </tr>\n",
       "  </tbody>\n",
       "</table>\n",
       "<p>1215 rows × 4 columns</p>\n",
       "</div>"
      ],
      "text/plain": [
       "      Year     Country   Medal  Count\n",
       "0     1976   Australia  Bronze      8\n",
       "1     1976   Australia  Silver     16\n",
       "2     1976     Austria  Bronze      1\n",
       "3     1976     Belgium  Bronze      6\n",
       "4     1976     Belgium  Silver      3\n",
       "...    ...         ...     ...    ...\n",
       "1210  2008  Uzbekistan  Silver      2\n",
       "1211  2008   Venezuela  Bronze      1\n",
       "1212  2008     Vietnam  Silver      1\n",
       "1213  2008    Zimbabwe    Gold      1\n",
       "1214  2008    Zimbabwe  Silver      3\n",
       "\n",
       "[1215 rows x 4 columns]"
      ]
     },
     "execution_count": 66,
     "metadata": {},
     "output_type": "execute_result"
    }
   ],
   "source": [
    "# Converting Medal column into a categorical column\n",
    "\n",
    "medal_each_year['Medal'] = pd.Categorical(medal_each_year['Medal'],categories=['Gold','Silver','Bronze'],ordered=True)\n",
    "medal_each_year"
   ]
  },
  {
   "cell_type": "code",
   "execution_count": 67,
   "metadata": {
    "colab": {
     "base_uri": "https://localhost:8080/",
     "height": 424
    },
    "id": "QDu1laru2kQ4",
    "outputId": "d9510204-b7b1-4651-b38a-bb8e2fa090cf"
   },
   "outputs": [
    {
     "data": {
      "text/html": [
       "<div>\n",
       "<style scoped>\n",
       "    .dataframe tbody tr th:only-of-type {\n",
       "        vertical-align: middle;\n",
       "    }\n",
       "\n",
       "    .dataframe tbody tr th {\n",
       "        vertical-align: top;\n",
       "    }\n",
       "\n",
       "    .dataframe thead th {\n",
       "        text-align: right;\n",
       "    }\n",
       "</style>\n",
       "<table border=\"1\" class=\"dataframe\">\n",
       "  <thead>\n",
       "    <tr style=\"text-align: right;\">\n",
       "      <th></th>\n",
       "      <th>Year</th>\n",
       "      <th>Country</th>\n",
       "      <th>Medal</th>\n",
       "      <th>Count</th>\n",
       "    </tr>\n",
       "  </thead>\n",
       "  <tbody>\n",
       "    <tr>\n",
       "      <th>36</th>\n",
       "      <td>1976</td>\n",
       "      <td>Jamaica</td>\n",
       "      <td>Gold</td>\n",
       "      <td>1</td>\n",
       "    </tr>\n",
       "    <tr>\n",
       "      <th>41</th>\n",
       "      <td>1976</td>\n",
       "      <td>Korea, North</td>\n",
       "      <td>Gold</td>\n",
       "      <td>1</td>\n",
       "    </tr>\n",
       "    <tr>\n",
       "      <th>44</th>\n",
       "      <td>1976</td>\n",
       "      <td>Korea, South</td>\n",
       "      <td>Gold</td>\n",
       "      <td>1</td>\n",
       "    </tr>\n",
       "    <tr>\n",
       "      <th>47</th>\n",
       "      <td>1976</td>\n",
       "      <td>Mexico</td>\n",
       "      <td>Gold</td>\n",
       "      <td>1</td>\n",
       "    </tr>\n",
       "    <tr>\n",
       "      <th>72</th>\n",
       "      <td>1976</td>\n",
       "      <td>Switzerland</td>\n",
       "      <td>Gold</td>\n",
       "      <td>1</td>\n",
       "    </tr>\n",
       "    <tr>\n",
       "      <th>...</th>\n",
       "      <td>...</td>\n",
       "      <td>...</td>\n",
       "      <td>...</td>\n",
       "      <td>...</td>\n",
       "    </tr>\n",
       "    <tr>\n",
       "      <th>1091</th>\n",
       "      <td>2008</td>\n",
       "      <td>Germany</td>\n",
       "      <td>Bronze</td>\n",
       "      <td>43</td>\n",
       "    </tr>\n",
       "    <tr>\n",
       "      <th>1167</th>\n",
       "      <td>2008</td>\n",
       "      <td>Russia</td>\n",
       "      <td>Bronze</td>\n",
       "      <td>56</td>\n",
       "    </tr>\n",
       "    <tr>\n",
       "      <th>1059</th>\n",
       "      <td>2008</td>\n",
       "      <td>China</td>\n",
       "      <td>Bronze</td>\n",
       "      <td>57</td>\n",
       "    </tr>\n",
       "    <tr>\n",
       "      <th>1033</th>\n",
       "      <td>2008</td>\n",
       "      <td>Australia</td>\n",
       "      <td>Bronze</td>\n",
       "      <td>76</td>\n",
       "    </tr>\n",
       "    <tr>\n",
       "      <th>1205</th>\n",
       "      <td>2008</td>\n",
       "      <td>United States</td>\n",
       "      <td>Bronze</td>\n",
       "      <td>81</td>\n",
       "    </tr>\n",
       "  </tbody>\n",
       "</table>\n",
       "<p>1215 rows × 4 columns</p>\n",
       "</div>"
      ],
      "text/plain": [
       "      Year        Country   Medal  Count\n",
       "36    1976        Jamaica    Gold      1\n",
       "41    1976   Korea, North    Gold      1\n",
       "44    1976   Korea, South    Gold      1\n",
       "47    1976         Mexico    Gold      1\n",
       "72    1976    Switzerland    Gold      1\n",
       "...    ...            ...     ...    ...\n",
       "1091  2008        Germany  Bronze     43\n",
       "1167  2008         Russia  Bronze     56\n",
       "1059  2008          China  Bronze     57\n",
       "1033  2008      Australia  Bronze     76\n",
       "1205  2008  United States  Bronze     81\n",
       "\n",
       "[1215 rows x 4 columns]"
      ]
     },
     "execution_count": 67,
     "metadata": {},
     "output_type": "execute_result"
    }
   ],
   "source": [
    "# Sorting values of Year,Medal,Count in ascending order\n",
    "\n",
    "medal_each_year= medal_each_year.sort_values(ascending=[True,True,True],by=['Year','Medal','Count'])\n",
    "medal_each_year"
   ]
  },
  {
   "cell_type": "code",
   "execution_count": 68,
   "metadata": {
    "colab": {
     "base_uri": "https://localhost:8080/",
     "height": 486
    },
    "id": "ho_LEXl22kOf",
    "outputId": "3c6d2f00-0054-47b7-c061-706a6de994b6"
   },
   "outputs": [
    {
     "data": {
      "text/html": [
       "<div>\n",
       "<style scoped>\n",
       "    .dataframe tbody tr th:only-of-type {\n",
       "        vertical-align: middle;\n",
       "    }\n",
       "\n",
       "    .dataframe tbody tr th {\n",
       "        vertical-align: top;\n",
       "    }\n",
       "\n",
       "    .dataframe thead tr th {\n",
       "        text-align: left;\n",
       "    }\n",
       "\n",
       "    .dataframe thead tr:last-of-type th {\n",
       "        text-align: right;\n",
       "    }\n",
       "</style>\n",
       "<table border=\"1\" class=\"dataframe\">\n",
       "  <thead>\n",
       "    <tr>\n",
       "      <th></th>\n",
       "      <th></th>\n",
       "      <th colspan=\"3\" halign=\"left\">Count</th>\n",
       "    </tr>\n",
       "    <tr>\n",
       "      <th></th>\n",
       "      <th>Medal</th>\n",
       "      <th>Gold</th>\n",
       "      <th>Silver</th>\n",
       "      <th>Bronze</th>\n",
       "    </tr>\n",
       "    <tr>\n",
       "      <th>Year</th>\n",
       "      <th>Country</th>\n",
       "      <th></th>\n",
       "      <th></th>\n",
       "      <th></th>\n",
       "    </tr>\n",
       "  </thead>\n",
       "  <tbody>\n",
       "    <tr>\n",
       "      <th rowspan=\"5\" valign=\"top\">1976</th>\n",
       "      <th>Australia</th>\n",
       "      <td>NaN</td>\n",
       "      <td>16.0</td>\n",
       "      <td>8.0</td>\n",
       "    </tr>\n",
       "    <tr>\n",
       "      <th>Austria</th>\n",
       "      <td>NaN</td>\n",
       "      <td>NaN</td>\n",
       "      <td>1.0</td>\n",
       "    </tr>\n",
       "    <tr>\n",
       "      <th>Belgium</th>\n",
       "      <td>NaN</td>\n",
       "      <td>3.0</td>\n",
       "      <td>6.0</td>\n",
       "    </tr>\n",
       "    <tr>\n",
       "      <th>Bermuda*</th>\n",
       "      <td>NaN</td>\n",
       "      <td>NaN</td>\n",
       "      <td>1.0</td>\n",
       "    </tr>\n",
       "    <tr>\n",
       "      <th>Brazil</th>\n",
       "      <td>NaN</td>\n",
       "      <td>NaN</td>\n",
       "      <td>3.0</td>\n",
       "    </tr>\n",
       "    <tr>\n",
       "      <th>...</th>\n",
       "      <th>...</th>\n",
       "      <td>...</td>\n",
       "      <td>...</td>\n",
       "      <td>...</td>\n",
       "    </tr>\n",
       "    <tr>\n",
       "      <th rowspan=\"5\" valign=\"top\">2008</th>\n",
       "      <th>United States</th>\n",
       "      <td>125.0</td>\n",
       "      <td>109.0</td>\n",
       "      <td>81.0</td>\n",
       "    </tr>\n",
       "    <tr>\n",
       "      <th>Uzbekistan</th>\n",
       "      <td>1.0</td>\n",
       "      <td>2.0</td>\n",
       "      <td>3.0</td>\n",
       "    </tr>\n",
       "    <tr>\n",
       "      <th>Venezuela</th>\n",
       "      <td>NaN</td>\n",
       "      <td>NaN</td>\n",
       "      <td>1.0</td>\n",
       "    </tr>\n",
       "    <tr>\n",
       "      <th>Vietnam</th>\n",
       "      <td>NaN</td>\n",
       "      <td>1.0</td>\n",
       "      <td>NaN</td>\n",
       "    </tr>\n",
       "    <tr>\n",
       "      <th>Zimbabwe</th>\n",
       "      <td>1.0</td>\n",
       "      <td>3.0</td>\n",
       "      <td>NaN</td>\n",
       "    </tr>\n",
       "  </tbody>\n",
       "</table>\n",
       "<p>559 rows × 3 columns</p>\n",
       "</div>"
      ],
      "text/plain": [
       "                    Count              \n",
       "Medal                Gold Silver Bronze\n",
       "Year Country                           \n",
       "1976 Australia        NaN   16.0    8.0\n",
       "     Austria          NaN    NaN    1.0\n",
       "     Belgium          NaN    3.0    6.0\n",
       "     Bermuda*         NaN    NaN    1.0\n",
       "     Brazil           NaN    NaN    3.0\n",
       "...                   ...    ...    ...\n",
       "2008 United States  125.0  109.0   81.0\n",
       "     Uzbekistan       1.0    2.0    3.0\n",
       "     Venezuela        NaN    NaN    1.0\n",
       "     Vietnam          NaN    1.0    NaN\n",
       "     Zimbabwe         1.0    3.0    NaN\n",
       "\n",
       "[559 rows x 3 columns]"
      ]
     },
     "execution_count": 68,
     "metadata": {},
     "output_type": "execute_result"
    }
   ],
   "source": [
    "# Calculating medals each year\n",
    "\n",
    "medal_each_year=medal_each_year.pivot(index=['Year','Country'],columns=['Medal'],values=['Count'])\n",
    "medal_each_year"
   ]
  },
  {
   "cell_type": "code",
   "execution_count": 69,
   "metadata": {
    "colab": {
     "base_uri": "https://localhost:8080/",
     "height": 455
    },
    "id": "FUadsN9Y2kEB",
    "outputId": "2d795b56-e312-41fe-ed12-39a942fcb978"
   },
   "outputs": [
    {
     "data": {
      "text/html": [
       "<div>\n",
       "<style scoped>\n",
       "    .dataframe tbody tr th:only-of-type {\n",
       "        vertical-align: middle;\n",
       "    }\n",
       "\n",
       "    .dataframe tbody tr th {\n",
       "        vertical-align: top;\n",
       "    }\n",
       "\n",
       "    .dataframe thead tr th {\n",
       "        text-align: left;\n",
       "    }\n",
       "</style>\n",
       "<table border=\"1\" class=\"dataframe\">\n",
       "  <thead>\n",
       "    <tr>\n",
       "      <th></th>\n",
       "      <th>Year</th>\n",
       "      <th>Country</th>\n",
       "      <th colspan=\"3\" halign=\"left\">Count</th>\n",
       "    </tr>\n",
       "    <tr>\n",
       "      <th>Medal</th>\n",
       "      <th></th>\n",
       "      <th></th>\n",
       "      <th>Gold</th>\n",
       "      <th>Silver</th>\n",
       "      <th>Bronze</th>\n",
       "    </tr>\n",
       "  </thead>\n",
       "  <tbody>\n",
       "    <tr>\n",
       "      <th>0</th>\n",
       "      <td>1976</td>\n",
       "      <td>Australia</td>\n",
       "      <td>NaN</td>\n",
       "      <td>16.0</td>\n",
       "      <td>8.0</td>\n",
       "    </tr>\n",
       "    <tr>\n",
       "      <th>1</th>\n",
       "      <td>1976</td>\n",
       "      <td>Austria</td>\n",
       "      <td>NaN</td>\n",
       "      <td>NaN</td>\n",
       "      <td>1.0</td>\n",
       "    </tr>\n",
       "    <tr>\n",
       "      <th>2</th>\n",
       "      <td>1976</td>\n",
       "      <td>Belgium</td>\n",
       "      <td>NaN</td>\n",
       "      <td>3.0</td>\n",
       "      <td>6.0</td>\n",
       "    </tr>\n",
       "    <tr>\n",
       "      <th>3</th>\n",
       "      <td>1976</td>\n",
       "      <td>Bermuda*</td>\n",
       "      <td>NaN</td>\n",
       "      <td>NaN</td>\n",
       "      <td>1.0</td>\n",
       "    </tr>\n",
       "    <tr>\n",
       "      <th>4</th>\n",
       "      <td>1976</td>\n",
       "      <td>Brazil</td>\n",
       "      <td>NaN</td>\n",
       "      <td>NaN</td>\n",
       "      <td>3.0</td>\n",
       "    </tr>\n",
       "    <tr>\n",
       "      <th>...</th>\n",
       "      <td>...</td>\n",
       "      <td>...</td>\n",
       "      <td>...</td>\n",
       "      <td>...</td>\n",
       "      <td>...</td>\n",
       "    </tr>\n",
       "    <tr>\n",
       "      <th>554</th>\n",
       "      <td>2008</td>\n",
       "      <td>United States</td>\n",
       "      <td>125.0</td>\n",
       "      <td>109.0</td>\n",
       "      <td>81.0</td>\n",
       "    </tr>\n",
       "    <tr>\n",
       "      <th>555</th>\n",
       "      <td>2008</td>\n",
       "      <td>Uzbekistan</td>\n",
       "      <td>1.0</td>\n",
       "      <td>2.0</td>\n",
       "      <td>3.0</td>\n",
       "    </tr>\n",
       "    <tr>\n",
       "      <th>556</th>\n",
       "      <td>2008</td>\n",
       "      <td>Venezuela</td>\n",
       "      <td>NaN</td>\n",
       "      <td>NaN</td>\n",
       "      <td>1.0</td>\n",
       "    </tr>\n",
       "    <tr>\n",
       "      <th>557</th>\n",
       "      <td>2008</td>\n",
       "      <td>Vietnam</td>\n",
       "      <td>NaN</td>\n",
       "      <td>1.0</td>\n",
       "      <td>NaN</td>\n",
       "    </tr>\n",
       "    <tr>\n",
       "      <th>558</th>\n",
       "      <td>2008</td>\n",
       "      <td>Zimbabwe</td>\n",
       "      <td>1.0</td>\n",
       "      <td>3.0</td>\n",
       "      <td>NaN</td>\n",
       "    </tr>\n",
       "  </tbody>\n",
       "</table>\n",
       "<p>559 rows × 5 columns</p>\n",
       "</div>"
      ],
      "text/plain": [
       "       Year        Country  Count              \n",
       "Medal                        Gold Silver Bronze\n",
       "0      1976      Australia    NaN   16.0    8.0\n",
       "1      1976        Austria    NaN    NaN    1.0\n",
       "2      1976        Belgium    NaN    3.0    6.0\n",
       "3      1976       Bermuda*    NaN    NaN    1.0\n",
       "4      1976         Brazil    NaN    NaN    3.0\n",
       "..      ...            ...    ...    ...    ...\n",
       "554    2008  United States  125.0  109.0   81.0\n",
       "555    2008     Uzbekistan    1.0    2.0    3.0\n",
       "556    2008      Venezuela    NaN    NaN    1.0\n",
       "557    2008        Vietnam    NaN    1.0    NaN\n",
       "558    2008       Zimbabwe    1.0    3.0    NaN\n",
       "\n",
       "[559 rows x 5 columns]"
      ]
     },
     "execution_count": 69,
     "metadata": {},
     "output_type": "execute_result"
    }
   ],
   "source": [
    "# Resetting index of Year column\n",
    "\n",
    "medal_each_year=medal_each_year.reset_index()\n",
    "medal_each_year"
   ]
  },
  {
   "cell_type": "code",
   "execution_count": 70,
   "metadata": {
    "colab": {
     "base_uri": "https://localhost:8080/",
     "height": 455
    },
    "id": "AdUVH0iLbGDo",
    "outputId": "e242e9f3-b37e-4392-b3f6-03e1b78f94b7"
   },
   "outputs": [
    {
     "data": {
      "text/html": [
       "<div>\n",
       "<style scoped>\n",
       "    .dataframe tbody tr th:only-of-type {\n",
       "        vertical-align: middle;\n",
       "    }\n",
       "\n",
       "    .dataframe tbody tr th {\n",
       "        vertical-align: top;\n",
       "    }\n",
       "\n",
       "    .dataframe thead tr th {\n",
       "        text-align: left;\n",
       "    }\n",
       "</style>\n",
       "<table border=\"1\" class=\"dataframe\">\n",
       "  <thead>\n",
       "    <tr>\n",
       "      <th></th>\n",
       "      <th>Year</th>\n",
       "      <th>Country</th>\n",
       "      <th colspan=\"3\" halign=\"left\">Count</th>\n",
       "    </tr>\n",
       "    <tr>\n",
       "      <th>Medal</th>\n",
       "      <th></th>\n",
       "      <th></th>\n",
       "      <th>Gold</th>\n",
       "      <th>Silver</th>\n",
       "      <th>Bronze</th>\n",
       "    </tr>\n",
       "  </thead>\n",
       "  <tbody>\n",
       "    <tr>\n",
       "      <th>0</th>\n",
       "      <td>1976</td>\n",
       "      <td>Australia</td>\n",
       "      <td>0.0</td>\n",
       "      <td>16.0</td>\n",
       "      <td>8.0</td>\n",
       "    </tr>\n",
       "    <tr>\n",
       "      <th>1</th>\n",
       "      <td>1976</td>\n",
       "      <td>Austria</td>\n",
       "      <td>0.0</td>\n",
       "      <td>0.0</td>\n",
       "      <td>1.0</td>\n",
       "    </tr>\n",
       "    <tr>\n",
       "      <th>2</th>\n",
       "      <td>1976</td>\n",
       "      <td>Belgium</td>\n",
       "      <td>0.0</td>\n",
       "      <td>3.0</td>\n",
       "      <td>6.0</td>\n",
       "    </tr>\n",
       "    <tr>\n",
       "      <th>3</th>\n",
       "      <td>1976</td>\n",
       "      <td>Bermuda*</td>\n",
       "      <td>0.0</td>\n",
       "      <td>0.0</td>\n",
       "      <td>1.0</td>\n",
       "    </tr>\n",
       "    <tr>\n",
       "      <th>4</th>\n",
       "      <td>1976</td>\n",
       "      <td>Brazil</td>\n",
       "      <td>0.0</td>\n",
       "      <td>0.0</td>\n",
       "      <td>3.0</td>\n",
       "    </tr>\n",
       "    <tr>\n",
       "      <th>...</th>\n",
       "      <td>...</td>\n",
       "      <td>...</td>\n",
       "      <td>...</td>\n",
       "      <td>...</td>\n",
       "      <td>...</td>\n",
       "    </tr>\n",
       "    <tr>\n",
       "      <th>554</th>\n",
       "      <td>2008</td>\n",
       "      <td>United States</td>\n",
       "      <td>125.0</td>\n",
       "      <td>109.0</td>\n",
       "      <td>81.0</td>\n",
       "    </tr>\n",
       "    <tr>\n",
       "      <th>555</th>\n",
       "      <td>2008</td>\n",
       "      <td>Uzbekistan</td>\n",
       "      <td>1.0</td>\n",
       "      <td>2.0</td>\n",
       "      <td>3.0</td>\n",
       "    </tr>\n",
       "    <tr>\n",
       "      <th>556</th>\n",
       "      <td>2008</td>\n",
       "      <td>Venezuela</td>\n",
       "      <td>0.0</td>\n",
       "      <td>0.0</td>\n",
       "      <td>1.0</td>\n",
       "    </tr>\n",
       "    <tr>\n",
       "      <th>557</th>\n",
       "      <td>2008</td>\n",
       "      <td>Vietnam</td>\n",
       "      <td>0.0</td>\n",
       "      <td>1.0</td>\n",
       "      <td>0.0</td>\n",
       "    </tr>\n",
       "    <tr>\n",
       "      <th>558</th>\n",
       "      <td>2008</td>\n",
       "      <td>Zimbabwe</td>\n",
       "      <td>1.0</td>\n",
       "      <td>3.0</td>\n",
       "      <td>0.0</td>\n",
       "    </tr>\n",
       "  </tbody>\n",
       "</table>\n",
       "<p>559 rows × 5 columns</p>\n",
       "</div>"
      ],
      "text/plain": [
       "       Year        Country  Count              \n",
       "Medal                        Gold Silver Bronze\n",
       "0      1976      Australia    0.0   16.0    8.0\n",
       "1      1976        Austria    0.0    0.0    1.0\n",
       "2      1976        Belgium    0.0    3.0    6.0\n",
       "3      1976       Bermuda*    0.0    0.0    1.0\n",
       "4      1976         Brazil    0.0    0.0    3.0\n",
       "..      ...            ...    ...    ...    ...\n",
       "554    2008  United States  125.0  109.0   81.0\n",
       "555    2008     Uzbekistan    1.0    2.0    3.0\n",
       "556    2008      Venezuela    0.0    0.0    1.0\n",
       "557    2008        Vietnam    0.0    1.0    0.0\n",
       "558    2008       Zimbabwe    1.0    3.0    0.0\n",
       "\n",
       "[559 rows x 5 columns]"
      ]
     },
     "execution_count": 70,
     "metadata": {},
     "output_type": "execute_result"
    }
   ],
   "source": [
    "# Repalcing NaN values with 0\n",
    "\n",
    "medal_each_year = medal_each_year.replace(np.nan,0)\n",
    "medal_each_year"
   ]
  },
  {
   "cell_type": "code",
   "execution_count": 71,
   "metadata": {
    "colab": {
     "base_uri": "https://localhost:8080/",
     "height": 455
    },
    "id": "-ZHsbRI_bGBQ",
    "outputId": "376f4ac9-545e-4689-99e6-6ea6f051fa07"
   },
   "outputs": [
    {
     "data": {
      "text/html": [
       "<div>\n",
       "<style scoped>\n",
       "    .dataframe tbody tr th:only-of-type {\n",
       "        vertical-align: middle;\n",
       "    }\n",
       "\n",
       "    .dataframe tbody tr th {\n",
       "        vertical-align: top;\n",
       "    }\n",
       "\n",
       "    .dataframe thead tr th {\n",
       "        text-align: left;\n",
       "    }\n",
       "</style>\n",
       "<table border=\"1\" class=\"dataframe\">\n",
       "  <thead>\n",
       "    <tr>\n",
       "      <th></th>\n",
       "      <th>Year</th>\n",
       "      <th>Country</th>\n",
       "      <th colspan=\"3\" halign=\"left\">Count</th>\n",
       "      <th>Total Medals</th>\n",
       "    </tr>\n",
       "    <tr>\n",
       "      <th>Medal</th>\n",
       "      <th></th>\n",
       "      <th></th>\n",
       "      <th>Gold</th>\n",
       "      <th>Silver</th>\n",
       "      <th>Bronze</th>\n",
       "      <th></th>\n",
       "    </tr>\n",
       "  </thead>\n",
       "  <tbody>\n",
       "    <tr>\n",
       "      <th>0</th>\n",
       "      <td>1976</td>\n",
       "      <td>Australia</td>\n",
       "      <td>0.0</td>\n",
       "      <td>16.0</td>\n",
       "      <td>8.0</td>\n",
       "      <td>24.0</td>\n",
       "    </tr>\n",
       "    <tr>\n",
       "      <th>1</th>\n",
       "      <td>1976</td>\n",
       "      <td>Austria</td>\n",
       "      <td>0.0</td>\n",
       "      <td>0.0</td>\n",
       "      <td>1.0</td>\n",
       "      <td>1.0</td>\n",
       "    </tr>\n",
       "    <tr>\n",
       "      <th>2</th>\n",
       "      <td>1976</td>\n",
       "      <td>Belgium</td>\n",
       "      <td>0.0</td>\n",
       "      <td>3.0</td>\n",
       "      <td>6.0</td>\n",
       "      <td>9.0</td>\n",
       "    </tr>\n",
       "    <tr>\n",
       "      <th>3</th>\n",
       "      <td>1976</td>\n",
       "      <td>Bermuda*</td>\n",
       "      <td>0.0</td>\n",
       "      <td>0.0</td>\n",
       "      <td>1.0</td>\n",
       "      <td>1.0</td>\n",
       "    </tr>\n",
       "    <tr>\n",
       "      <th>4</th>\n",
       "      <td>1976</td>\n",
       "      <td>Brazil</td>\n",
       "      <td>0.0</td>\n",
       "      <td>0.0</td>\n",
       "      <td>3.0</td>\n",
       "      <td>3.0</td>\n",
       "    </tr>\n",
       "    <tr>\n",
       "      <th>...</th>\n",
       "      <td>...</td>\n",
       "      <td>...</td>\n",
       "      <td>...</td>\n",
       "      <td>...</td>\n",
       "      <td>...</td>\n",
       "      <td>...</td>\n",
       "    </tr>\n",
       "    <tr>\n",
       "      <th>554</th>\n",
       "      <td>2008</td>\n",
       "      <td>United States</td>\n",
       "      <td>125.0</td>\n",
       "      <td>109.0</td>\n",
       "      <td>81.0</td>\n",
       "      <td>315.0</td>\n",
       "    </tr>\n",
       "    <tr>\n",
       "      <th>555</th>\n",
       "      <td>2008</td>\n",
       "      <td>Uzbekistan</td>\n",
       "      <td>1.0</td>\n",
       "      <td>2.0</td>\n",
       "      <td>3.0</td>\n",
       "      <td>6.0</td>\n",
       "    </tr>\n",
       "    <tr>\n",
       "      <th>556</th>\n",
       "      <td>2008</td>\n",
       "      <td>Venezuela</td>\n",
       "      <td>0.0</td>\n",
       "      <td>0.0</td>\n",
       "      <td>1.0</td>\n",
       "      <td>1.0</td>\n",
       "    </tr>\n",
       "    <tr>\n",
       "      <th>557</th>\n",
       "      <td>2008</td>\n",
       "      <td>Vietnam</td>\n",
       "      <td>0.0</td>\n",
       "      <td>1.0</td>\n",
       "      <td>0.0</td>\n",
       "      <td>1.0</td>\n",
       "    </tr>\n",
       "    <tr>\n",
       "      <th>558</th>\n",
       "      <td>2008</td>\n",
       "      <td>Zimbabwe</td>\n",
       "      <td>1.0</td>\n",
       "      <td>3.0</td>\n",
       "      <td>0.0</td>\n",
       "      <td>4.0</td>\n",
       "    </tr>\n",
       "  </tbody>\n",
       "</table>\n",
       "<p>559 rows × 6 columns</p>\n",
       "</div>"
      ],
      "text/plain": [
       "       Year        Country  Count               Total Medals\n",
       "Medal                        Gold Silver Bronze             \n",
       "0      1976      Australia    0.0   16.0    8.0         24.0\n",
       "1      1976        Austria    0.0    0.0    1.0          1.0\n",
       "2      1976        Belgium    0.0    3.0    6.0          9.0\n",
       "3      1976       Bermuda*    0.0    0.0    1.0          1.0\n",
       "4      1976         Brazil    0.0    0.0    3.0          3.0\n",
       "..      ...            ...    ...    ...    ...          ...\n",
       "554    2008  United States  125.0  109.0   81.0        315.0\n",
       "555    2008     Uzbekistan    1.0    2.0    3.0          6.0\n",
       "556    2008      Venezuela    0.0    0.0    1.0          1.0\n",
       "557    2008        Vietnam    0.0    1.0    0.0          1.0\n",
       "558    2008       Zimbabwe    1.0    3.0    0.0          4.0\n",
       "\n",
       "[559 rows x 6 columns]"
      ]
     },
     "execution_count": 71,
     "metadata": {},
     "output_type": "execute_result"
    }
   ],
   "source": [
    "# Calculating total medals won\n",
    "\n",
    "medal_each_year['Total Medals']=medal_each_year['Count','Bronze']+medal_each_year['Count','Gold']+medal_each_year['Count','Silver']\n",
    "medal_each_year"
   ]
  },
  {
   "cell_type": "code",
   "execution_count": 72,
   "metadata": {
    "colab": {
     "base_uri": "https://localhost:8080/",
     "height": 455
    },
    "id": "Gp1kq6wJ9W5I",
    "outputId": "df682989-3440-4093-c95f-27e470327e0c"
   },
   "outputs": [
    {
     "data": {
      "text/html": [
       "<div>\n",
       "<style scoped>\n",
       "    .dataframe tbody tr th:only-of-type {\n",
       "        vertical-align: middle;\n",
       "    }\n",
       "\n",
       "    .dataframe tbody tr th {\n",
       "        vertical-align: top;\n",
       "    }\n",
       "\n",
       "    .dataframe thead tr th {\n",
       "        text-align: left;\n",
       "    }\n",
       "</style>\n",
       "<table border=\"1\" class=\"dataframe\">\n",
       "  <thead>\n",
       "    <tr>\n",
       "      <th></th>\n",
       "      <th>Year</th>\n",
       "      <th>Country</th>\n",
       "      <th colspan=\"3\" halign=\"left\">Count</th>\n",
       "      <th>Total Medals</th>\n",
       "    </tr>\n",
       "    <tr>\n",
       "      <th>Medal</th>\n",
       "      <th></th>\n",
       "      <th></th>\n",
       "      <th>Gold</th>\n",
       "      <th>Silver</th>\n",
       "      <th>Bronze</th>\n",
       "      <th></th>\n",
       "    </tr>\n",
       "  </thead>\n",
       "  <tbody>\n",
       "    <tr>\n",
       "      <th>30</th>\n",
       "      <td>1976</td>\n",
       "      <td>Soviet Union</td>\n",
       "      <td>113.0</td>\n",
       "      <td>93.0</td>\n",
       "      <td>79.0</td>\n",
       "      <td>285.0</td>\n",
       "    </tr>\n",
       "    <tr>\n",
       "      <th>10</th>\n",
       "      <td>1976</td>\n",
       "      <td>East Germany</td>\n",
       "      <td>99.0</td>\n",
       "      <td>51.0</td>\n",
       "      <td>42.0</td>\n",
       "      <td>192.0</td>\n",
       "    </tr>\n",
       "    <tr>\n",
       "      <th>37</th>\n",
       "      <td>1976</td>\n",
       "      <td>United States</td>\n",
       "      <td>63.0</td>\n",
       "      <td>56.0</td>\n",
       "      <td>36.0</td>\n",
       "      <td>155.0</td>\n",
       "    </tr>\n",
       "    <tr>\n",
       "      <th>39</th>\n",
       "      <td>1976</td>\n",
       "      <td>West Germany</td>\n",
       "      <td>21.0</td>\n",
       "      <td>24.0</td>\n",
       "      <td>30.0</td>\n",
       "      <td>75.0</td>\n",
       "    </tr>\n",
       "    <tr>\n",
       "      <th>26</th>\n",
       "      <td>1976</td>\n",
       "      <td>Poland</td>\n",
       "      <td>18.0</td>\n",
       "      <td>29.0</td>\n",
       "      <td>26.0</td>\n",
       "      <td>73.0</td>\n",
       "    </tr>\n",
       "    <tr>\n",
       "      <th>...</th>\n",
       "      <td>...</td>\n",
       "      <td>...</td>\n",
       "      <td>...</td>\n",
       "      <td>...</td>\n",
       "      <td>...</td>\n",
       "      <td>...</td>\n",
       "    </tr>\n",
       "    <tr>\n",
       "      <th>542</th>\n",
       "      <td>2008</td>\n",
       "      <td>Sudan</td>\n",
       "      <td>0.0</td>\n",
       "      <td>1.0</td>\n",
       "      <td>0.0</td>\n",
       "      <td>1.0</td>\n",
       "    </tr>\n",
       "    <tr>\n",
       "      <th>548</th>\n",
       "      <td>2008</td>\n",
       "      <td>Togo</td>\n",
       "      <td>0.0</td>\n",
       "      <td>0.0</td>\n",
       "      <td>1.0</td>\n",
       "      <td>1.0</td>\n",
       "    </tr>\n",
       "    <tr>\n",
       "      <th>550</th>\n",
       "      <td>2008</td>\n",
       "      <td>Tunisia</td>\n",
       "      <td>1.0</td>\n",
       "      <td>0.0</td>\n",
       "      <td>0.0</td>\n",
       "      <td>1.0</td>\n",
       "    </tr>\n",
       "    <tr>\n",
       "      <th>556</th>\n",
       "      <td>2008</td>\n",
       "      <td>Venezuela</td>\n",
       "      <td>0.0</td>\n",
       "      <td>0.0</td>\n",
       "      <td>1.0</td>\n",
       "      <td>1.0</td>\n",
       "    </tr>\n",
       "    <tr>\n",
       "      <th>557</th>\n",
       "      <td>2008</td>\n",
       "      <td>Vietnam</td>\n",
       "      <td>0.0</td>\n",
       "      <td>1.0</td>\n",
       "      <td>0.0</td>\n",
       "      <td>1.0</td>\n",
       "    </tr>\n",
       "  </tbody>\n",
       "</table>\n",
       "<p>559 rows × 6 columns</p>\n",
       "</div>"
      ],
      "text/plain": [
       "       Year        Country  Count               Total Medals\n",
       "Medal                        Gold Silver Bronze             \n",
       "30     1976   Soviet Union  113.0   93.0   79.0        285.0\n",
       "10     1976   East Germany   99.0   51.0   42.0        192.0\n",
       "37     1976  United States   63.0   56.0   36.0        155.0\n",
       "39     1976   West Germany   21.0   24.0   30.0         75.0\n",
       "26     1976         Poland   18.0   29.0   26.0         73.0\n",
       "..      ...            ...    ...    ...    ...          ...\n",
       "542    2008          Sudan    0.0    1.0    0.0          1.0\n",
       "548    2008           Togo    0.0    0.0    1.0          1.0\n",
       "550    2008        Tunisia    1.0    0.0    0.0          1.0\n",
       "556    2008      Venezuela    0.0    0.0    1.0          1.0\n",
       "557    2008        Vietnam    0.0    1.0    0.0          1.0\n",
       "\n",
       "[559 rows x 6 columns]"
      ]
     },
     "execution_count": 72,
     "metadata": {},
     "output_type": "execute_result"
    }
   ],
   "source": [
    "# Sorting according to year and total medals\n",
    "\n",
    "medal_each_year =medal_each_year.sort_values(ascending = [True,False],by=['Year','Total Medals'])\n",
    "medal_each_year"
   ]
  },
  {
   "cell_type": "code",
   "execution_count": 73,
   "metadata": {
    "colab": {
     "base_uri": "https://localhost:8080/",
     "height": 424
    },
    "id": "Cdc_4hbv9W3q",
    "outputId": "6efe1f63-4af6-49c0-dcdb-107113ce6955"
   },
   "outputs": [
    {
     "data": {
      "text/html": [
       "<div>\n",
       "<style scoped>\n",
       "    .dataframe tbody tr th:only-of-type {\n",
       "        vertical-align: middle;\n",
       "    }\n",
       "\n",
       "    .dataframe tbody tr th {\n",
       "        vertical-align: top;\n",
       "    }\n",
       "\n",
       "    .dataframe thead th {\n",
       "        text-align: right;\n",
       "    }\n",
       "</style>\n",
       "<table border=\"1\" class=\"dataframe\">\n",
       "  <thead>\n",
       "    <tr style=\"text-align: right;\">\n",
       "      <th>Medal</th>\n",
       "      <th></th>\n",
       "      <th></th>\n",
       "      <th>Gold</th>\n",
       "      <th>Silver</th>\n",
       "      <th>Bronze</th>\n",
       "      <th></th>\n",
       "    </tr>\n",
       "  </thead>\n",
       "  <tbody>\n",
       "    <tr>\n",
       "      <th>30</th>\n",
       "      <td>1976</td>\n",
       "      <td>Soviet Union</td>\n",
       "      <td>113.0</td>\n",
       "      <td>93.0</td>\n",
       "      <td>79.0</td>\n",
       "      <td>285.0</td>\n",
       "    </tr>\n",
       "    <tr>\n",
       "      <th>10</th>\n",
       "      <td>1976</td>\n",
       "      <td>East Germany</td>\n",
       "      <td>99.0</td>\n",
       "      <td>51.0</td>\n",
       "      <td>42.0</td>\n",
       "      <td>192.0</td>\n",
       "    </tr>\n",
       "    <tr>\n",
       "      <th>37</th>\n",
       "      <td>1976</td>\n",
       "      <td>United States</td>\n",
       "      <td>63.0</td>\n",
       "      <td>56.0</td>\n",
       "      <td>36.0</td>\n",
       "      <td>155.0</td>\n",
       "    </tr>\n",
       "    <tr>\n",
       "      <th>39</th>\n",
       "      <td>1976</td>\n",
       "      <td>West Germany</td>\n",
       "      <td>21.0</td>\n",
       "      <td>24.0</td>\n",
       "      <td>30.0</td>\n",
       "      <td>75.0</td>\n",
       "    </tr>\n",
       "    <tr>\n",
       "      <th>26</th>\n",
       "      <td>1976</td>\n",
       "      <td>Poland</td>\n",
       "      <td>18.0</td>\n",
       "      <td>29.0</td>\n",
       "      <td>26.0</td>\n",
       "      <td>73.0</td>\n",
       "    </tr>\n",
       "    <tr>\n",
       "      <th>...</th>\n",
       "      <td>...</td>\n",
       "      <td>...</td>\n",
       "      <td>...</td>\n",
       "      <td>...</td>\n",
       "      <td>...</td>\n",
       "      <td>...</td>\n",
       "    </tr>\n",
       "    <tr>\n",
       "      <th>542</th>\n",
       "      <td>2008</td>\n",
       "      <td>Sudan</td>\n",
       "      <td>0.0</td>\n",
       "      <td>1.0</td>\n",
       "      <td>0.0</td>\n",
       "      <td>1.0</td>\n",
       "    </tr>\n",
       "    <tr>\n",
       "      <th>548</th>\n",
       "      <td>2008</td>\n",
       "      <td>Togo</td>\n",
       "      <td>0.0</td>\n",
       "      <td>0.0</td>\n",
       "      <td>1.0</td>\n",
       "      <td>1.0</td>\n",
       "    </tr>\n",
       "    <tr>\n",
       "      <th>550</th>\n",
       "      <td>2008</td>\n",
       "      <td>Tunisia</td>\n",
       "      <td>1.0</td>\n",
       "      <td>0.0</td>\n",
       "      <td>0.0</td>\n",
       "      <td>1.0</td>\n",
       "    </tr>\n",
       "    <tr>\n",
       "      <th>556</th>\n",
       "      <td>2008</td>\n",
       "      <td>Venezuela</td>\n",
       "      <td>0.0</td>\n",
       "      <td>0.0</td>\n",
       "      <td>1.0</td>\n",
       "      <td>1.0</td>\n",
       "    </tr>\n",
       "    <tr>\n",
       "      <th>557</th>\n",
       "      <td>2008</td>\n",
       "      <td>Vietnam</td>\n",
       "      <td>0.0</td>\n",
       "      <td>1.0</td>\n",
       "      <td>0.0</td>\n",
       "      <td>1.0</td>\n",
       "    </tr>\n",
       "  </tbody>\n",
       "</table>\n",
       "<p>559 rows × 6 columns</p>\n",
       "</div>"
      ],
      "text/plain": [
       "Medal                        Gold  Silver  Bronze       \n",
       "30     1976   Soviet Union  113.0    93.0    79.0  285.0\n",
       "10     1976   East Germany   99.0    51.0    42.0  192.0\n",
       "37     1976  United States   63.0    56.0    36.0  155.0\n",
       "39     1976   West Germany   21.0    24.0    30.0   75.0\n",
       "26     1976         Poland   18.0    29.0    26.0   73.0\n",
       "..      ...            ...    ...     ...     ...    ...\n",
       "542    2008          Sudan    0.0     1.0     0.0    1.0\n",
       "548    2008           Togo    0.0     0.0     1.0    1.0\n",
       "550    2008        Tunisia    1.0     0.0     0.0    1.0\n",
       "556    2008      Venezuela    0.0     0.0     1.0    1.0\n",
       "557    2008        Vietnam    0.0     1.0     0.0    1.0\n",
       "\n",
       "[559 rows x 6 columns]"
      ]
     },
     "execution_count": 73,
     "metadata": {},
     "output_type": "execute_result"
    }
   ],
   "source": [
    "# Dropping columns of first level\n",
    "\n",
    "medal_each_year.columns=medal_each_year.columns.droplevel(0)\n",
    "medal_each_year"
   ]
  },
  {
   "cell_type": "code",
   "execution_count": 74,
   "metadata": {
    "colab": {
     "base_uri": "https://localhost:8080/",
     "height": 424
    },
    "id": "j5nSW76e9W2K",
    "outputId": "454e96cb-0b5b-42ef-a051-39850a2ec045"
   },
   "outputs": [
    {
     "data": {
      "text/html": [
       "<div>\n",
       "<style scoped>\n",
       "    .dataframe tbody tr th:only-of-type {\n",
       "        vertical-align: middle;\n",
       "    }\n",
       "\n",
       "    .dataframe tbody tr th {\n",
       "        vertical-align: top;\n",
       "    }\n",
       "\n",
       "    .dataframe thead th {\n",
       "        text-align: right;\n",
       "    }\n",
       "</style>\n",
       "<table border=\"1\" class=\"dataframe\">\n",
       "  <thead>\n",
       "    <tr style=\"text-align: right;\">\n",
       "      <th></th>\n",
       "      <th>Year</th>\n",
       "      <th>Country</th>\n",
       "      <th>Gold</th>\n",
       "      <th>Silver</th>\n",
       "      <th>Bronze</th>\n",
       "      <th>Total Medals</th>\n",
       "    </tr>\n",
       "  </thead>\n",
       "  <tbody>\n",
       "    <tr>\n",
       "      <th>30</th>\n",
       "      <td>1976</td>\n",
       "      <td>Soviet Union</td>\n",
       "      <td>113.0</td>\n",
       "      <td>93.0</td>\n",
       "      <td>79.0</td>\n",
       "      <td>285.0</td>\n",
       "    </tr>\n",
       "    <tr>\n",
       "      <th>10</th>\n",
       "      <td>1976</td>\n",
       "      <td>East Germany</td>\n",
       "      <td>99.0</td>\n",
       "      <td>51.0</td>\n",
       "      <td>42.0</td>\n",
       "      <td>192.0</td>\n",
       "    </tr>\n",
       "    <tr>\n",
       "      <th>37</th>\n",
       "      <td>1976</td>\n",
       "      <td>United States</td>\n",
       "      <td>63.0</td>\n",
       "      <td>56.0</td>\n",
       "      <td>36.0</td>\n",
       "      <td>155.0</td>\n",
       "    </tr>\n",
       "    <tr>\n",
       "      <th>39</th>\n",
       "      <td>1976</td>\n",
       "      <td>West Germany</td>\n",
       "      <td>21.0</td>\n",
       "      <td>24.0</td>\n",
       "      <td>30.0</td>\n",
       "      <td>75.0</td>\n",
       "    </tr>\n",
       "    <tr>\n",
       "      <th>26</th>\n",
       "      <td>1976</td>\n",
       "      <td>Poland</td>\n",
       "      <td>18.0</td>\n",
       "      <td>29.0</td>\n",
       "      <td>26.0</td>\n",
       "      <td>73.0</td>\n",
       "    </tr>\n",
       "    <tr>\n",
       "      <th>...</th>\n",
       "      <td>...</td>\n",
       "      <td>...</td>\n",
       "      <td>...</td>\n",
       "      <td>...</td>\n",
       "      <td>...</td>\n",
       "      <td>...</td>\n",
       "    </tr>\n",
       "    <tr>\n",
       "      <th>542</th>\n",
       "      <td>2008</td>\n",
       "      <td>Sudan</td>\n",
       "      <td>0.0</td>\n",
       "      <td>1.0</td>\n",
       "      <td>0.0</td>\n",
       "      <td>1.0</td>\n",
       "    </tr>\n",
       "    <tr>\n",
       "      <th>548</th>\n",
       "      <td>2008</td>\n",
       "      <td>Togo</td>\n",
       "      <td>0.0</td>\n",
       "      <td>0.0</td>\n",
       "      <td>1.0</td>\n",
       "      <td>1.0</td>\n",
       "    </tr>\n",
       "    <tr>\n",
       "      <th>550</th>\n",
       "      <td>2008</td>\n",
       "      <td>Tunisia</td>\n",
       "      <td>1.0</td>\n",
       "      <td>0.0</td>\n",
       "      <td>0.0</td>\n",
       "      <td>1.0</td>\n",
       "    </tr>\n",
       "    <tr>\n",
       "      <th>556</th>\n",
       "      <td>2008</td>\n",
       "      <td>Venezuela</td>\n",
       "      <td>0.0</td>\n",
       "      <td>0.0</td>\n",
       "      <td>1.0</td>\n",
       "      <td>1.0</td>\n",
       "    </tr>\n",
       "    <tr>\n",
       "      <th>557</th>\n",
       "      <td>2008</td>\n",
       "      <td>Vietnam</td>\n",
       "      <td>0.0</td>\n",
       "      <td>1.0</td>\n",
       "      <td>0.0</td>\n",
       "      <td>1.0</td>\n",
       "    </tr>\n",
       "  </tbody>\n",
       "</table>\n",
       "<p>559 rows × 6 columns</p>\n",
       "</div>"
      ],
      "text/plain": [
       "     Year        Country   Gold  Silver  Bronze  Total Medals\n",
       "30   1976   Soviet Union  113.0    93.0    79.0         285.0\n",
       "10   1976   East Germany   99.0    51.0    42.0         192.0\n",
       "37   1976  United States   63.0    56.0    36.0         155.0\n",
       "39   1976   West Germany   21.0    24.0    30.0          75.0\n",
       "26   1976         Poland   18.0    29.0    26.0          73.0\n",
       "..    ...            ...    ...     ...     ...           ...\n",
       "542  2008          Sudan    0.0     1.0     0.0           1.0\n",
       "548  2008           Togo    0.0     0.0     1.0           1.0\n",
       "550  2008        Tunisia    1.0     0.0     0.0           1.0\n",
       "556  2008      Venezuela    0.0     0.0     1.0           1.0\n",
       "557  2008        Vietnam    0.0     1.0     0.0           1.0\n",
       "\n",
       "[559 rows x 6 columns]"
      ]
     },
     "execution_count": 74,
     "metadata": {},
     "output_type": "execute_result"
    }
   ],
   "source": [
    "# Renaming the columns for cleaner columns\n",
    "\n",
    "medal_each_year.columns = ['Year','Country','Gold','Silver','Bronze','Total Medals']\n",
    "medal_each_year"
   ]
  },
  {
   "cell_type": "markdown",
   "metadata": {
    "id": "kG7FUTLGEvgi"
   },
   "source": [
    "* In 1976 Soviet Union won 285 medals in total follwed by Germany with 192 medals."
   ]
  },
  {
   "cell_type": "markdown",
   "metadata": {
    "id": "TeHBBEmOm9Iy"
   },
   "source": [
    "### 3.10 Which country has dominated any particular sport"
   ]
  },
  {
   "cell_type": "code",
   "execution_count": 77,
   "metadata": {
    "colab": {
     "base_uri": "https://localhost:8080/",
     "height": 424
    },
    "id": "1v06TyXeoSoR",
    "outputId": "a96accf8-0094-468e-9794-8a85b8d09c33"
   },
   "outputs": [
    {
     "data": {
      "text/html": [
       "<div>\n",
       "<style scoped>\n",
       "    .dataframe tbody tr th:only-of-type {\n",
       "        vertical-align: middle;\n",
       "    }\n",
       "\n",
       "    .dataframe tbody tr th {\n",
       "        vertical-align: top;\n",
       "    }\n",
       "\n",
       "    .dataframe thead th {\n",
       "        text-align: right;\n",
       "    }\n",
       "</style>\n",
       "<table border=\"1\" class=\"dataframe\">\n",
       "  <thead>\n",
       "    <tr style=\"text-align: right;\">\n",
       "      <th></th>\n",
       "      <th>Sport</th>\n",
       "      <th>Country</th>\n",
       "      <th>Count</th>\n",
       "    </tr>\n",
       "  </thead>\n",
       "  <tbody>\n",
       "    <tr>\n",
       "      <th>0</th>\n",
       "      <td>Aquatics</td>\n",
       "      <td>Argentina</td>\n",
       "      <td>1</td>\n",
       "    </tr>\n",
       "    <tr>\n",
       "      <th>1</th>\n",
       "      <td>Aquatics</td>\n",
       "      <td>Australia</td>\n",
       "      <td>239</td>\n",
       "    </tr>\n",
       "    <tr>\n",
       "      <th>2</th>\n",
       "      <td>Aquatics</td>\n",
       "      <td>Austria</td>\n",
       "      <td>3</td>\n",
       "    </tr>\n",
       "    <tr>\n",
       "      <th>3</th>\n",
       "      <td>Aquatics</td>\n",
       "      <td>Belgium</td>\n",
       "      <td>2</td>\n",
       "    </tr>\n",
       "    <tr>\n",
       "      <th>4</th>\n",
       "      <td>Aquatics</td>\n",
       "      <td>Brazil</td>\n",
       "      <td>15</td>\n",
       "    </tr>\n",
       "    <tr>\n",
       "      <th>...</th>\n",
       "      <td>...</td>\n",
       "      <td>...</td>\n",
       "      <td>...</td>\n",
       "    </tr>\n",
       "    <tr>\n",
       "      <th>823</th>\n",
       "      <td>Wrestling</td>\n",
       "      <td>United Kingdom</td>\n",
       "      <td>1</td>\n",
       "    </tr>\n",
       "    <tr>\n",
       "      <th>824</th>\n",
       "      <td>Wrestling</td>\n",
       "      <td>United States</td>\n",
       "      <td>57</td>\n",
       "    </tr>\n",
       "    <tr>\n",
       "      <th>825</th>\n",
       "      <td>Wrestling</td>\n",
       "      <td>Uzbekistan</td>\n",
       "      <td>6</td>\n",
       "    </tr>\n",
       "    <tr>\n",
       "      <th>826</th>\n",
       "      <td>Wrestling</td>\n",
       "      <td>West Germany</td>\n",
       "      <td>6</td>\n",
       "    </tr>\n",
       "    <tr>\n",
       "      <th>827</th>\n",
       "      <td>Wrestling</td>\n",
       "      <td>Yugoslavia</td>\n",
       "      <td>9</td>\n",
       "    </tr>\n",
       "  </tbody>\n",
       "</table>\n",
       "<p>828 rows × 3 columns</p>\n",
       "</div>"
      ],
      "text/plain": [
       "         Sport         Country  Count\n",
       "0     Aquatics       Argentina      1\n",
       "1     Aquatics       Australia    239\n",
       "2     Aquatics         Austria      3\n",
       "3     Aquatics         Belgium      2\n",
       "4     Aquatics          Brazil     15\n",
       "..         ...             ...    ...\n",
       "823  Wrestling  United Kingdom      1\n",
       "824  Wrestling   United States     57\n",
       "825  Wrestling      Uzbekistan      6\n",
       "826  Wrestling    West Germany      6\n",
       "827  Wrestling      Yugoslavia      9\n",
       "\n",
       "[828 rows x 3 columns]"
      ]
     },
     "execution_count": 77,
     "metadata": {},
     "output_type": "execute_result"
    }
   ],
   "source": [
    "# Grouping Sport and country into a dataframe for faster process\n",
    "\n",
    "sport_dominancy = olympics.groupby(['Sport','Country'])['Country'].count().reset_index(name='Count')\n",
    "sport_dominancy"
   ]
  },
  {
   "cell_type": "code",
   "execution_count": 78,
   "metadata": {
    "colab": {
     "base_uri": "https://localhost:8080/",
     "height": 424
    },
    "id": "dyUOybO79WqG",
    "outputId": "88cd4438-576b-4894-922f-bd11cd1f8f1b"
   },
   "outputs": [
    {
     "data": {
      "text/html": [
       "<div>\n",
       "<style scoped>\n",
       "    .dataframe tbody tr th:only-of-type {\n",
       "        vertical-align: middle;\n",
       "    }\n",
       "\n",
       "    .dataframe tbody tr th {\n",
       "        vertical-align: top;\n",
       "    }\n",
       "\n",
       "    .dataframe thead th {\n",
       "        text-align: right;\n",
       "    }\n",
       "</style>\n",
       "<table border=\"1\" class=\"dataframe\">\n",
       "  <thead>\n",
       "    <tr style=\"text-align: right;\">\n",
       "      <th></th>\n",
       "      <th>Sport</th>\n",
       "      <th>Country</th>\n",
       "      <th>Count</th>\n",
       "    </tr>\n",
       "  </thead>\n",
       "  <tbody>\n",
       "    <tr>\n",
       "      <th>43</th>\n",
       "      <td>Aquatics</td>\n",
       "      <td>United States</td>\n",
       "      <td>578</td>\n",
       "    </tr>\n",
       "    <tr>\n",
       "      <th>1</th>\n",
       "      <td>Aquatics</td>\n",
       "      <td>Australia</td>\n",
       "      <td>239</td>\n",
       "    </tr>\n",
       "    <tr>\n",
       "      <th>28</th>\n",
       "      <td>Aquatics</td>\n",
       "      <td>Russia</td>\n",
       "      <td>125</td>\n",
       "    </tr>\n",
       "    <tr>\n",
       "      <th>7</th>\n",
       "      <td>Aquatics</td>\n",
       "      <td>China</td>\n",
       "      <td>118</td>\n",
       "    </tr>\n",
       "    <tr>\n",
       "      <th>12</th>\n",
       "      <td>Aquatics</td>\n",
       "      <td>East Germany</td>\n",
       "      <td>109</td>\n",
       "    </tr>\n",
       "    <tr>\n",
       "      <th>...</th>\n",
       "      <td>...</td>\n",
       "      <td>...</td>\n",
       "      <td>...</td>\n",
       "    </tr>\n",
       "    <tr>\n",
       "      <th>814</th>\n",
       "      <td>Wrestling</td>\n",
       "      <td>Slovakia</td>\n",
       "      <td>1</td>\n",
       "    </tr>\n",
       "    <tr>\n",
       "      <th>817</th>\n",
       "      <td>Wrestling</td>\n",
       "      <td>Switzerland</td>\n",
       "      <td>1</td>\n",
       "    </tr>\n",
       "    <tr>\n",
       "      <th>818</th>\n",
       "      <td>Wrestling</td>\n",
       "      <td>Syria</td>\n",
       "      <td>1</td>\n",
       "    </tr>\n",
       "    <tr>\n",
       "      <th>819</th>\n",
       "      <td>Wrestling</td>\n",
       "      <td>Tajikistan</td>\n",
       "      <td>1</td>\n",
       "    </tr>\n",
       "    <tr>\n",
       "      <th>823</th>\n",
       "      <td>Wrestling</td>\n",
       "      <td>United Kingdom</td>\n",
       "      <td>1</td>\n",
       "    </tr>\n",
       "  </tbody>\n",
       "</table>\n",
       "<p>828 rows × 3 columns</p>\n",
       "</div>"
      ],
      "text/plain": [
       "         Sport         Country  Count\n",
       "43    Aquatics   United States    578\n",
       "1     Aquatics       Australia    239\n",
       "28    Aquatics          Russia    125\n",
       "7     Aquatics           China    118\n",
       "12    Aquatics    East Germany    109\n",
       "..         ...             ...    ...\n",
       "814  Wrestling        Slovakia      1\n",
       "817  Wrestling     Switzerland      1\n",
       "818  Wrestling           Syria      1\n",
       "819  Wrestling      Tajikistan      1\n",
       "823  Wrestling  United Kingdom      1\n",
       "\n",
       "[828 rows x 3 columns]"
      ]
     },
     "execution_count": 78,
     "metadata": {},
     "output_type": "execute_result"
    }
   ],
   "source": [
    "# Sorting the dataframe\n",
    "\n",
    "sport_dominancy = sport_dominancy.sort_values(ascending= [True,False],by=['Sport','Count'])\n",
    "sport_dominancy"
   ]
  },
  {
   "cell_type": "code",
   "execution_count": 79,
   "metadata": {
    "colab": {
     "base_uri": "https://localhost:8080/"
    },
    "id": "96G-BdnE-bmN",
    "outputId": "1ed8f50d-d1fa-484d-f126-ac1be23df7ad"
   },
   "outputs": [
    {
     "data": {
      "text/plain": [
       "array(['Aquatics', 'Archery', 'Athletics', 'Badminton', 'Baseball',\n",
       "       'Basketball', 'Boxing', 'Canoe / Kayak', 'Cycling', 'Equestrian',\n",
       "       'Fencing', 'Football', 'Gymnastics', 'Handball', 'Hockey', 'Judo',\n",
       "       'Modern Pentathlon', 'Rowing', 'Sailing', 'Shooting', 'Softball',\n",
       "       'Table Tennis', 'Taekwondo', 'Tennis', 'Triathlon', 'Volleyball',\n",
       "       'Weightlifting', 'Wrestling'], dtype=object)"
      ]
     },
     "execution_count": 79,
     "metadata": {},
     "output_type": "execute_result"
    }
   ],
   "source": [
    "# Analysing the unique values\n",
    "\n",
    "sport_dominancy['Sport'].unique()"
   ]
  },
  {
   "cell_type": "code",
   "execution_count": 80,
   "metadata": {
    "colab": {
     "base_uri": "https://localhost:8080/",
     "height": 106
    },
    "id": "Vr0qw7XE-bj5",
    "outputId": "3ae44816-f018-4f37-99da-7ef5d09ac52e"
   },
   "outputs": [
    {
     "name": "stdin",
     "output_type": "stream",
     "text": [
      "Enter a sport from the above :  Basketball\n"
     ]
    },
    {
     "data": {
      "text/html": [
       "<div>\n",
       "<style scoped>\n",
       "    .dataframe tbody tr th:only-of-type {\n",
       "        vertical-align: middle;\n",
       "    }\n",
       "\n",
       "    .dataframe tbody tr th {\n",
       "        vertical-align: top;\n",
       "    }\n",
       "\n",
       "    .dataframe thead th {\n",
       "        text-align: right;\n",
       "    }\n",
       "</style>\n",
       "<table border=\"1\" class=\"dataframe\">\n",
       "  <thead>\n",
       "    <tr style=\"text-align: right;\">\n",
       "      <th></th>\n",
       "      <th>Sport</th>\n",
       "      <th>Country</th>\n",
       "      <th>Count</th>\n",
       "    </tr>\n",
       "  </thead>\n",
       "  <tbody>\n",
       "    <tr>\n",
       "      <th>172</th>\n",
       "      <td>Basketball</td>\n",
       "      <td>United States</td>\n",
       "      <td>192</td>\n",
       "    </tr>\n",
       "    <tr>\n",
       "      <th>173</th>\n",
       "      <td>Basketball</td>\n",
       "      <td>Yugoslavia</td>\n",
       "      <td>84</td>\n",
       "    </tr>\n",
       "    <tr>\n",
       "      <th>169</th>\n",
       "      <td>Basketball</td>\n",
       "      <td>Soviet Union</td>\n",
       "      <td>72</td>\n",
       "    </tr>\n",
       "    <tr>\n",
       "      <th>159</th>\n",
       "      <td>Basketball</td>\n",
       "      <td>Australia</td>\n",
       "      <td>48</td>\n",
       "    </tr>\n",
       "    <tr>\n",
       "      <th>167</th>\n",
       "      <td>Basketball</td>\n",
       "      <td>Lithuania</td>\n",
       "      <td>36</td>\n",
       "    </tr>\n",
       "    <tr>\n",
       "      <th>158</th>\n",
       "      <td>Basketball</td>\n",
       "      <td>Argentina</td>\n",
       "      <td>24</td>\n",
       "    </tr>\n",
       "    <tr>\n",
       "      <th>160</th>\n",
       "      <td>Basketball</td>\n",
       "      <td>Brazil</td>\n",
       "      <td>24</td>\n",
       "    </tr>\n",
       "    <tr>\n",
       "      <th>161</th>\n",
       "      <td>Basketball</td>\n",
       "      <td>Bulgaria</td>\n",
       "      <td>24</td>\n",
       "    </tr>\n",
       "    <tr>\n",
       "      <th>162</th>\n",
       "      <td>Basketball</td>\n",
       "      <td>China</td>\n",
       "      <td>24</td>\n",
       "    </tr>\n",
       "    <tr>\n",
       "      <th>170</th>\n",
       "      <td>Basketball</td>\n",
       "      <td>Spain</td>\n",
       "      <td>24</td>\n",
       "    </tr>\n",
       "    <tr>\n",
       "      <th>165</th>\n",
       "      <td>Basketball</td>\n",
       "      <td>Italy</td>\n",
       "      <td>23</td>\n",
       "    </tr>\n",
       "    <tr>\n",
       "      <th>168</th>\n",
       "      <td>Basketball</td>\n",
       "      <td>Russia</td>\n",
       "      <td>23</td>\n",
       "    </tr>\n",
       "    <tr>\n",
       "      <th>163</th>\n",
       "      <td>Basketball</td>\n",
       "      <td>Croatia</td>\n",
       "      <td>12</td>\n",
       "    </tr>\n",
       "    <tr>\n",
       "      <th>164</th>\n",
       "      <td>Basketball</td>\n",
       "      <td>France</td>\n",
       "      <td>12</td>\n",
       "    </tr>\n",
       "    <tr>\n",
       "      <th>166</th>\n",
       "      <td>Basketball</td>\n",
       "      <td>Korea, South</td>\n",
       "      <td>12</td>\n",
       "    </tr>\n",
       "    <tr>\n",
       "      <th>171</th>\n",
       "      <td>Basketball</td>\n",
       "      <td>Unified team</td>\n",
       "      <td>12</td>\n",
       "    </tr>\n",
       "  </tbody>\n",
       "</table>\n",
       "</div>"
      ],
      "text/plain": [
       "          Sport        Country  Count\n",
       "172  Basketball  United States    192\n",
       "173  Basketball     Yugoslavia     84\n",
       "169  Basketball   Soviet Union     72\n",
       "159  Basketball      Australia     48\n",
       "167  Basketball      Lithuania     36\n",
       "158  Basketball      Argentina     24\n",
       "160  Basketball         Brazil     24\n",
       "161  Basketball       Bulgaria     24\n",
       "162  Basketball          China     24\n",
       "170  Basketball          Spain     24\n",
       "165  Basketball          Italy     23\n",
       "168  Basketball         Russia     23\n",
       "163  Basketball        Croatia     12\n",
       "164  Basketball         France     12\n",
       "166  Basketball   Korea, South     12\n",
       "171  Basketball   Unified team     12"
      ]
     },
     "execution_count": 80,
     "metadata": {},
     "output_type": "execute_result"
    }
   ],
   "source": [
    "# Searching the specific sport for medal counts\n",
    "\n",
    "try:\n",
    "  p=input('Enter a sport from the above : ')\n",
    "except:\n",
    "  print('Invalid input')\n",
    "\n",
    "temp = sport_dominancy[sport_dominancy['Sport'] == p]\n",
    "temp"
   ]
  },
  {
   "cell_type": "markdown",
   "metadata": {
    "id": "B-xuIiopn8VE"
   },
   "source": [
    "* Here we can check which sports was dominated by countries.\n"
   ]
  },
  {
   "cell_type": "markdown",
   "metadata": {
    "id": "S_E7mctTobck"
   },
   "source": [
    "### 3.11 Athlete changed his or her Event or Discipline or sport and still won medals"
   ]
  },
  {
   "cell_type": "code",
   "execution_count": 83,
   "metadata": {
    "colab": {
     "base_uri": "https://localhost:8080/",
     "height": 424
    },
    "id": "D89xhoTu-be5",
    "outputId": "2cd45731-4e1c-40bf-ca05-ecff067c4054"
   },
   "outputs": [
    {
     "data": {
      "text/html": [
       "<div>\n",
       "<style scoped>\n",
       "    .dataframe tbody tr th:only-of-type {\n",
       "        vertical-align: middle;\n",
       "    }\n",
       "\n",
       "    .dataframe tbody tr th {\n",
       "        vertical-align: top;\n",
       "    }\n",
       "\n",
       "    .dataframe thead th {\n",
       "        text-align: right;\n",
       "    }\n",
       "</style>\n",
       "<table border=\"1\" class=\"dataframe\">\n",
       "  <thead>\n",
       "    <tr style=\"text-align: right;\">\n",
       "      <th></th>\n",
       "      <th>Athlete</th>\n",
       "      <th>Sport</th>\n",
       "    </tr>\n",
       "  </thead>\n",
       "  <tbody>\n",
       "    <tr>\n",
       "      <th>0</th>\n",
       "      <td>KÃHLER, Christa</td>\n",
       "      <td>Aquatics</td>\n",
       "    </tr>\n",
       "    <tr>\n",
       "      <th>1</th>\n",
       "      <td>KOSENKOV, Aleksandr</td>\n",
       "      <td>Aquatics</td>\n",
       "    </tr>\n",
       "    <tr>\n",
       "      <th>2</th>\n",
       "      <td>BOGGS, Philip George</td>\n",
       "      <td>Aquatics</td>\n",
       "    </tr>\n",
       "    <tr>\n",
       "      <th>3</th>\n",
       "      <td>CAGNOTTO, Giorgio Franco</td>\n",
       "      <td>Aquatics</td>\n",
       "    </tr>\n",
       "    <tr>\n",
       "      <th>4</th>\n",
       "      <td>WILSON, Deborah Keplar</td>\n",
       "      <td>Aquatics</td>\n",
       "    </tr>\n",
       "    <tr>\n",
       "      <th>...</th>\n",
       "      <td>...</td>\n",
       "      <td>...</td>\n",
       "    </tr>\n",
       "    <tr>\n",
       "      <th>15311</th>\n",
       "      <td>GUENOT, Christophe</td>\n",
       "      <td>Wrestling</td>\n",
       "    </tr>\n",
       "    <tr>\n",
       "      <th>15312</th>\n",
       "      <td>KVIRKELIA, Manuchar</td>\n",
       "      <td>Wrestling</td>\n",
       "    </tr>\n",
       "    <tr>\n",
       "      <th>15313</th>\n",
       "      <td>RAHIMOV, Vitaliy</td>\n",
       "      <td>Wrestling</td>\n",
       "    </tr>\n",
       "    <tr>\n",
       "      <th>15314</th>\n",
       "      <td>GUENOT, Steeve</td>\n",
       "      <td>Wrestling</td>\n",
       "    </tr>\n",
       "    <tr>\n",
       "      <th>15315</th>\n",
       "      <td>LOPEZ, Mijain</td>\n",
       "      <td>Wrestling</td>\n",
       "    </tr>\n",
       "  </tbody>\n",
       "</table>\n",
       "<p>15316 rows × 2 columns</p>\n",
       "</div>"
      ],
      "text/plain": [
       "                        Athlete      Sport\n",
       "0              KÃHLER, Christa   Aquatics\n",
       "1           KOSENKOV, Aleksandr   Aquatics\n",
       "2          BOGGS, Philip George   Aquatics\n",
       "3      CAGNOTTO, Giorgio Franco   Aquatics\n",
       "4        WILSON, Deborah Keplar   Aquatics\n",
       "...                         ...        ...\n",
       "15311        GUENOT, Christophe  Wrestling\n",
       "15312       KVIRKELIA, Manuchar  Wrestling\n",
       "15313          RAHIMOV, Vitaliy  Wrestling\n",
       "15314            GUENOT, Steeve  Wrestling\n",
       "15315             LOPEZ, Mijain  Wrestling\n",
       "\n",
       "[15316 rows x 2 columns]"
      ]
     },
     "execution_count": 83,
     "metadata": {},
     "output_type": "execute_result"
    }
   ],
   "source": [
    "# Creating dataframe of athlete and sport for faster processing\n",
    "\n",
    "athlete = olympics[['Athlete','Sport']]\n",
    "athlete"
   ]
  },
  {
   "cell_type": "code",
   "execution_count": 84,
   "metadata": {
    "colab": {
     "base_uri": "https://localhost:8080/",
     "height": 424
    },
    "id": "3ADi8rZO-bc5",
    "outputId": "3c767bdf-87a2-4752-e6df-1664c5371331"
   },
   "outputs": [
    {
     "data": {
      "text/html": [
       "<div>\n",
       "<style scoped>\n",
       "    .dataframe tbody tr th:only-of-type {\n",
       "        vertical-align: middle;\n",
       "    }\n",
       "\n",
       "    .dataframe tbody tr th {\n",
       "        vertical-align: top;\n",
       "    }\n",
       "\n",
       "    .dataframe thead th {\n",
       "        text-align: right;\n",
       "    }\n",
       "</style>\n",
       "<table border=\"1\" class=\"dataframe\">\n",
       "  <thead>\n",
       "    <tr style=\"text-align: right;\">\n",
       "      <th></th>\n",
       "      <th>Athlete</th>\n",
       "      <th>Sport</th>\n",
       "    </tr>\n",
       "  </thead>\n",
       "  <tbody>\n",
       "    <tr>\n",
       "      <th>0</th>\n",
       "      <td>KÃHLER, Christa</td>\n",
       "      <td>Aquatics</td>\n",
       "    </tr>\n",
       "    <tr>\n",
       "      <th>1</th>\n",
       "      <td>KOSENKOV, Aleksandr</td>\n",
       "      <td>Aquatics</td>\n",
       "    </tr>\n",
       "    <tr>\n",
       "      <th>2</th>\n",
       "      <td>BOGGS, Philip George</td>\n",
       "      <td>Aquatics</td>\n",
       "    </tr>\n",
       "    <tr>\n",
       "      <th>3</th>\n",
       "      <td>CAGNOTTO, Giorgio Franco</td>\n",
       "      <td>Aquatics</td>\n",
       "    </tr>\n",
       "    <tr>\n",
       "      <th>4</th>\n",
       "      <td>WILSON, Deborah Keplar</td>\n",
       "      <td>Aquatics</td>\n",
       "    </tr>\n",
       "    <tr>\n",
       "      <th>...</th>\n",
       "      <td>...</td>\n",
       "      <td>...</td>\n",
       "    </tr>\n",
       "    <tr>\n",
       "      <th>15311</th>\n",
       "      <td>GUENOT, Christophe</td>\n",
       "      <td>Wrestling</td>\n",
       "    </tr>\n",
       "    <tr>\n",
       "      <th>15312</th>\n",
       "      <td>KVIRKELIA, Manuchar</td>\n",
       "      <td>Wrestling</td>\n",
       "    </tr>\n",
       "    <tr>\n",
       "      <th>15313</th>\n",
       "      <td>RAHIMOV, Vitaliy</td>\n",
       "      <td>Wrestling</td>\n",
       "    </tr>\n",
       "    <tr>\n",
       "      <th>15314</th>\n",
       "      <td>GUENOT, Steeve</td>\n",
       "      <td>Wrestling</td>\n",
       "    </tr>\n",
       "    <tr>\n",
       "      <th>15315</th>\n",
       "      <td>LOPEZ, Mijain</td>\n",
       "      <td>Wrestling</td>\n",
       "    </tr>\n",
       "  </tbody>\n",
       "</table>\n",
       "<p>11358 rows × 2 columns</p>\n",
       "</div>"
      ],
      "text/plain": [
       "                        Athlete      Sport\n",
       "0              KÃHLER, Christa   Aquatics\n",
       "1           KOSENKOV, Aleksandr   Aquatics\n",
       "2          BOGGS, Philip George   Aquatics\n",
       "3      CAGNOTTO, Giorgio Franco   Aquatics\n",
       "4        WILSON, Deborah Keplar   Aquatics\n",
       "...                         ...        ...\n",
       "15311        GUENOT, Christophe  Wrestling\n",
       "15312       KVIRKELIA, Manuchar  Wrestling\n",
       "15313          RAHIMOV, Vitaliy  Wrestling\n",
       "15314            GUENOT, Steeve  Wrestling\n",
       "15315             LOPEZ, Mijain  Wrestling\n",
       "\n",
       "[11358 rows x 2 columns]"
      ]
     },
     "execution_count": 84,
     "metadata": {},
     "output_type": "execute_result"
    }
   ],
   "source": [
    "# Dropping duplicates\n",
    "\n",
    "athlete = athlete.drop_duplicates()\n",
    "athlete"
   ]
  },
  {
   "cell_type": "code",
   "execution_count": 85,
   "metadata": {
    "colab": {
     "base_uri": "https://localhost:8080/"
    },
    "id": "-ubRTVU3-bab",
    "outputId": "2a6d44a2-7c52-444f-8423-d58ae23f31bd"
   },
   "outputs": [],
   "source": [
    "# Grouping athletes\n",
    "\n",
    "athlete=athlete.groupby(['Athlete'])"
   ]
  },
  {
   "cell_type": "code",
   "execution_count": 86,
   "metadata": {
    "colab": {
     "base_uri": "https://localhost:8080/"
    },
    "id": "WyZLaNbT-bX4",
    "outputId": "8c4cf0fd-236c-4cd0-bfd5-d9a42abeb37a"
   },
   "outputs": [
    {
     "name": "stdout",
     "output_type": "stream",
     "text": [
      "('BELOVA, Irina',) ['Athletics', 'Gymnastics']\n",
      "('CHEN, Jing',) ['Table Tennis', 'Volleyball']\n",
      "('DIMITROV, Stefan',) ['Volleyball', 'Weightlifting']\n",
      "('GAVRILOV, Yuri',) ['Football', 'Handball']\n",
      "('GONZALEZ, Raul',) ['Athletics', 'Handball']\n",
      "('KOLESNIKOV, Nikolai',) ['Athletics', 'Weightlifting']\n",
      "('KOVACS, Istvan',) ['Wrestling', 'Boxing']\n",
      "('KOVALENKO, Alexandre',) ['Athletics', 'Aquatics']\n",
      "('KUZNETSOV, Mikhail',) ['Rowing', 'Canoe / Kayak']\n",
      "('KUZNETSOV, Nikolai',) ['Rowing', 'Cycling']\n",
      "('LEE, Eun Kyung',) ['Archery', 'Hockey']\n",
      "('LI, Na',) ['Aquatics', 'Fencing']\n",
      "('LI, Ting',) ['Aquatics', 'Tennis']\n",
      "('OVCHINNIKOVA, Elena',) ['Volleyball', 'Aquatics']\n",
      "('ROMERO, Rebecca',) ['Rowing', 'Cycling']\n",
      "('THOMPSON, Richard',) ['Baseball', 'Athletics']\n",
      "('TOMA, Sanda',) ['Rowing', 'Canoe / Kayak']\n",
      "('WANG, Liping',) ['Football', 'Athletics']\n",
      "('WELLS, Matthew',) ['Hockey', 'Rowing']\n",
      "('YANG, Wei',) ['Badminton', 'Gymnastics']\n",
      "('YOUNG, Tim',) ['Rowing', 'Baseball']\n"
     ]
    }
   ],
   "source": [
    "# Analysing athletes who changed their sport and still won\n",
    "\n",
    "for k,v in athlete:\n",
    "  if len(v['Sport'].tolist()) >1:\n",
    "    print(k,v['Sport'].tolist())"
   ]
  },
  {
   "cell_type": "markdown",
   "metadata": {
    "id": "u8bY2-X6JIeo"
   },
   "source": [
    "* There are some players who changed their sport and won a medal.\n",
    "* There is a possibility that 2 different players with same name and sports. Here cannot distinguish."
   ]
  },
  {
   "cell_type": "markdown",
   "metadata": {
    "id": "O_0ssd8BcNOX"
   },
   "source": [
    "### Analysis"
   ]
  },
  {
   "cell_type": "markdown",
   "metadata": {},
   "source": [
    "* Maximum medals are won by United States(1992) followed by Soviet Union(1021) which is in 2nd position. Both the countries have total medals more than 1000 and rest are below 1000.\n",
    "* There are 61% Men and 39% Women participated in the Olympics game.\n",
    "* Michael Phelps won 16 medals from 1976 to 2008.\n",
    "* There are some sports where females are not participating or the game is not meant for them.\n",
    "* In 1976 Soviet Union won 285 medals in total follwed by Germany with 192 medals."
   ]
  }
 ],
 "metadata": {
  "colab": {
   "provenance": []
  },
  "kernelspec": {
   "display_name": "Python 3 (ipykernel)",
   "language": "python",
   "name": "python3"
  },
  "language_info": {
   "codemirror_mode": {
    "name": "ipython",
    "version": 3
   },
   "file_extension": ".py",
   "mimetype": "text/x-python",
   "name": "python",
   "nbconvert_exporter": "python",
   "pygments_lexer": "ipython3",
   "version": "3.12.4"
  }
 },
 "nbformat": 4,
 "nbformat_minor": 4
}
